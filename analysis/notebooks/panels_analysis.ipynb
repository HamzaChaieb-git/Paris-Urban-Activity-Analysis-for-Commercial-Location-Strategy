{
 "cells": [
  {
   "cell_type": "code",
   "execution_count": 32,
   "metadata": {},
   "outputs": [],
   "source": [
    "import pandas as pd\n",
    "import numpy as np\n",
    "import matplotlib.pyplot as plt\n",
    "import seaborn as sns\n",
    "import plotly.express as px\n",
    "import plotly.graph_objects as go\n",
    "import psycopg2\n",
    "import json\n",
    "import warnings\n",
    "warnings.filterwarnings('ignore')\n",
    "\n",
    "plt.style.use('seaborn-v0_8')\n",
    "sns.set_palette(\"husl\")\n",
    "\n",
    "def get_connection():\n",
    "    return psycopg2.connect(\n",
    "        host='localhost',\n",
    "        port=5432,\n",
    "        database='city_marketing',\n",
    "        user='postgres',\n",
    "        password='1234'\n",
    "    )"
   ]
  },
  {
   "cell_type": "code",
   "execution_count": 33,
   "metadata": {},
   "outputs": [
    {
     "name": "stdout",
     "output_type": "stream",
     "text": [
      "Dataset shape: (288, 7)\n",
      "Columns: ['location', 'precision', 'arrondissement', 'format_1m2', 'format_2m2', 'longitude', 'latitude']\n",
      "\n",
      "Raw data sample:\n",
      "                  location                              precision  \\\n",
      "0           42, rue Madame                      Ecole élémentaire   \n",
      "1    31, rue Pierre Semard                              Panneau A   \n",
      "2  24, rue Saint Sébastien                                          \n",
      "3        132, rue d Alésia                                          \n",
      "4       4-6, rue du Bessin  Angle rue du Bessin et rue Castagnary   \n",
      "\n",
      "  arrondissement format_1m2 format_2m2 longitude   latitude  \n",
      "0        75006.0        1.0             2.331602  48.848934  \n",
      "1        75009.0                   1.0  2.348291  48.879105  \n",
      "2        75011.0                   1.0  2.369434  48.861114  \n",
      "3        75014.0                   1.0  2.319421  48.830516  \n",
      "4        75015.0                   1.0  2.305727  48.831051  \n",
      "\n",
      "Raw arrondissement values (unique):\n",
      "arrondissement\n",
      "            1\n",
      "75001.0     4\n",
      "75002.0     2\n",
      "75003.0     2\n",
      "75004.0     6\n",
      "75005.0    11\n",
      "75006.0    12\n",
      "75007.0     6\n",
      "75008.0     6\n",
      "75009.0     7\n",
      "75010.0    10\n",
      "75011.0    22\n",
      "75012.0    22\n",
      "75013.0    26\n",
      "75014.0    17\n",
      "75015.0    15\n",
      "75016.0    13\n",
      "75017.0    18\n",
      "75018.0    20\n",
      "75019.0    33\n",
      "75020.0    35\n",
      "Name: count, dtype: int64\n",
      "\n",
      "Data types:\n",
      "location          object\n",
      "precision         object\n",
      "arrondissement    object\n",
      "format_1m2        object\n",
      "format_2m2        object\n",
      "longitude         object\n",
      "latitude          object\n",
      "dtype: object\n"
     ]
    }
   ],
   "source": [
    "conn = get_connection()\n",
    "panels_data = pd.read_sql(\"SELECT * FROM associative_panels\", conn)\n",
    "conn.close()\n",
    "\n",
    "print(f\"Dataset shape: {panels_data.shape}\")\n",
    "print(f\"Columns: {list(panels_data.columns)}\")\n",
    "print(\"\\nRaw data sample:\")\n",
    "print(panels_data.head())\n",
    "\n",
    "print(f\"\\nRaw arrondissement values (unique):\")\n",
    "raw_arr_values = panels_data['arrondissement'].value_counts().sort_index()\n",
    "print(raw_arr_values)\n",
    "\n",
    "print(f\"\\nData types:\")\n",
    "print(panels_data.dtypes)"
   ]
  },
  {
   "cell_type": "code",
   "execution_count": 34,
   "metadata": {},
   "outputs": [
    {
     "name": "stdout",
     "output_type": "stream",
     "text": [
      "COMPREHENSIVE DATA QUALITY ANALYSIS\n",
      "==================================================\n",
      "Total records: 288\n",
      "Unique records check:\n",
      "  Before dedup: 288\n",
      "  After dedup: 288\n",
      "  Duplicates found: 0\n",
      "\n",
      "Missing values analysis:\n",
      "  location: 0 (0.0%)\n",
      "  precision: 0 (0.0%)\n",
      "  arrondissement: 0 (0.0%)\n",
      "  format_1m2: 0 (0.0%)\n",
      "  format_2m2: 0 (0.0%)\n",
      "  longitude: 0 (0.0%)\n",
      "  latitude: 0 (0.0%)\n",
      "\n",
      "Arrondissement field analysis:\n",
      "  Data type: object\n",
      "  Unique values: 21\n",
      "  Value range:  to 75020.0\n",
      "\n",
      "Sample arrondissement values:\n",
      "arrondissement\n",
      "75020.0    35\n",
      "75019.0    33\n",
      "75013.0    26\n",
      "75011.0    22\n",
      "75012.0    22\n",
      "75018.0    20\n",
      "75017.0    18\n",
      "75014.0    17\n",
      "75015.0    15\n",
      "75016.0    13\n",
      "Name: count, dtype: int64\n"
     ]
    }
   ],
   "source": [
    "print(\"COMPREHENSIVE DATA QUALITY ANALYSIS\")\n",
    "print(\"=\" * 50)\n",
    "\n",
    "print(f\"Total records: {len(panels_data)}\")\n",
    "print(f\"Unique records check:\")\n",
    "print(f\"  Before dedup: {len(panels_data)}\")\n",
    "panels_data_dedup = panels_data.drop_duplicates()\n",
    "print(f\"  After dedup: {len(panels_data_dedup)}\")\n",
    "print(f\"  Duplicates found: {len(panels_data) - len(panels_data_dedup)}\")\n",
    "\n",
    "print(f\"\\nMissing values analysis:\")\n",
    "for col in panels_data.columns:\n",
    "    missing_count = panels_data[col].isnull().sum()\n",
    "    missing_pct = (missing_count / len(panels_data)) * 100\n",
    "    print(f\"  {col}: {missing_count} ({missing_pct:.1f}%)\")\n",
    "\n",
    "print(f\"\\nArrondissement field analysis:\")\n",
    "print(f\"  Data type: {panels_data['arrondissement'].dtype}\")\n",
    "print(f\"  Unique values: {panels_data['arrondissement'].nunique()}\")\n",
    "print(f\"  Value range: {panels_data['arrondissement'].min()} to {panels_data['arrondissement'].max()}\")\n",
    "\n",
    "print(f\"\\nSample arrondissement values:\")\n",
    "sample_arr = panels_data['arrondissement'].value_counts().head(10)\n",
    "print(sample_arr)"
   ]
  },
  {
   "cell_type": "code",
   "execution_count": 35,
   "metadata": {},
   "outputs": [
    {
     "name": "stdout",
     "output_type": "stream",
     "text": [
      "ARRONDISSEMENT CLEANING PROCESS\n",
      "========================================\n",
      "Original arrondissement values sample:\n",
      "['75006.0', '75009.0', '75011.0', '75014.0', '75015.0', '75017.0', '75018.0', '75011.0', '75018.0', '75005.0']\n",
      "\n",
      "After string conversion:\n",
      "arr_raw\n",
      "75020.0    35\n",
      "75019.0    33\n",
      "75013.0    26\n",
      "75011.0    22\n",
      "75012.0    22\n",
      "75018.0    20\n",
      "75017.0    18\n",
      "75014.0    17\n",
      "75015.0    15\n",
      "75016.0    13\n",
      "Name: count, dtype: int64\n",
      "\n",
      "After number extraction:\n",
      "arr_extracted\n",
      "75020    35\n",
      "75019    33\n",
      "75013    26\n",
      "75011    22\n",
      "75012    22\n",
      "75018    20\n",
      "75017    18\n",
      "75014    17\n",
      "75015    15\n",
      "75016    13\n",
      "Name: count, dtype: int64\n",
      "\n",
      "After cleaning:\n",
      "arrondissement_clean\n",
      "1      4\n",
      "10    10\n",
      "11    22\n",
      "12    22\n",
      "13    26\n",
      "14    17\n",
      "15    15\n",
      "16    13\n",
      "17    18\n",
      "18    20\n",
      "19    33\n",
      "2      2\n",
      "20    35\n",
      "3      2\n",
      "4      6\n",
      "5     11\n",
      "6     12\n",
      "7      6\n",
      "8      6\n",
      "9      7\n",
      "Name: count, dtype: int64\n",
      "\n",
      "Validation results:\n",
      "  Valid arrondissements: 287\n",
      "  Invalid/missing: 1\n",
      "  Coverage: 20/20 arrondissements\n",
      "\n",
      "Invalid arrondissement values:\n",
      "arr_raw\n",
      "    1\n",
      "Name: count, dtype: int64\n"
     ]
    }
   ],
   "source": [
    "# Work with deduplicated data\n",
    "panels_clean = panels_data_dedup.copy()\n",
    "\n",
    "print(\"ARRONDISSEMENT CLEANING PROCESS\")\n",
    "print(\"=\" * 40)\n",
    "\n",
    "print(f\"Original arrondissement values sample:\")\n",
    "print(panels_clean['arrondissement'].head(10).tolist())\n",
    "\n",
    "# Step 1: Convert to string and clean\n",
    "panels_clean['arr_raw'] = panels_clean['arrondissement'].astype(str)\n",
    "print(f\"\\nAfter string conversion:\")\n",
    "print(panels_clean['arr_raw'].value_counts().head(10))\n",
    "\n",
    "# Step 2: Extract numbers - handle postal codes if present\n",
    "panels_clean['arr_extracted'] = panels_clean['arr_raw'].str.extract(r'(\\d+)')\n",
    "print(f\"\\nAfter number extraction:\")\n",
    "print(panels_clean['arr_extracted'].value_counts().head(10))\n",
    "\n",
    "# Step 3: Handle postal codes (75001 -> 1, etc.)\n",
    "def clean_arrondissement(val):\n",
    "    if pd.isna(val):\n",
    "        return None\n",
    "    val_str = str(val).strip()\n",
    "    \n",
    "    # Remove .0 if present\n",
    "    if val_str.endswith('.0'):\n",
    "        val_str = val_str[:-2]\n",
    "    \n",
    "    # Handle postal codes (75001-75020)\n",
    "    if val_str.startswith('75') and len(val_str) == 5:\n",
    "        arr_num = val_str[2:]\n",
    "        # Handle 75001 -> 1, but keep 75020 -> 20\n",
    "        return str(int(arr_num))\n",
    "    \n",
    "    # Handle direct numbers\n",
    "    try:\n",
    "        num = int(val_str)\n",
    "        if 1 <= num <= 20:\n",
    "            return str(num)\n",
    "        else:\n",
    "            return None  # Invalid arrondissement\n",
    "    except:\n",
    "        return None\n",
    "\n",
    "panels_clean['arrondissement_clean'] = panels_clean['arr_raw'].apply(clean_arrondissement)\n",
    "\n",
    "print(f\"\\nAfter cleaning:\")\n",
    "clean_counts = panels_clean['arrondissement_clean'].value_counts().sort_index()\n",
    "print(clean_counts)\n",
    "\n",
    "print(f\"\\nValidation results:\")\n",
    "valid_records = panels_clean['arrondissement_clean'].notna().sum()\n",
    "invalid_records = panels_clean['arrondissement_clean'].isna().sum()\n",
    "print(f\"  Valid arrondissements: {valid_records}\")\n",
    "print(f\"  Invalid/missing: {invalid_records}\")\n",
    "print(f\"  Coverage: {panels_clean['arrondissement_clean'].nunique()}/20 arrondissements\")\n",
    "\n",
    "if invalid_records > 0:\n",
    "    print(f\"\\nInvalid arrondissement values:\")\n",
    "    invalid_data = panels_clean[panels_clean['arrondissement_clean'].isna()]['arr_raw'].value_counts()\n",
    "    print(invalid_data)"
   ]
  },
  {
   "cell_type": "code",
   "execution_count": 36,
   "metadata": {},
   "outputs": [
    {
     "name": "stdout",
     "output_type": "stream",
     "text": [
      "CLEANED DATA ANALYSIS\n",
      "========================================\n",
      "Valid records: 287/288\n",
      "\n",
      "Final arrondissement distribution:\n",
      "arrondissement  panel_count\n",
      "             1            4\n",
      "            10           10\n",
      "            11           22\n",
      "            12           22\n",
      "            13           26\n",
      "            14           17\n",
      "            15           15\n",
      "            16           13\n",
      "            17           18\n",
      "            18           20\n",
      "            19           33\n",
      "             2            2\n",
      "            20           35\n",
      "             3            2\n",
      "             4            6\n",
      "             5           11\n",
      "             6           12\n",
      "             7            6\n",
      "             8            6\n",
      "             9            7\n",
      "\n",
      "Coverage validation:\n",
      "Arrondissements covered: 20/20 (100.0%)\n",
      "Average panels per arrondissement: 14.3\n",
      "Complete Paris coverage achieved!\n"
     ]
    }
   ],
   "source": [
    "panels_valid = panels_clean[panels_clean['arrondissement_clean'].notna()].copy()\n",
    "\n",
    "print(f\"CLEANED DATA ANALYSIS\")\n",
    "print(f\"=\" * 40)\n",
    "print(f\"Valid records: {len(panels_valid)}/{len(panels_clean)}\")\n",
    "\n",
    "print(f\"\\nFinal arrondissement distribution:\")\n",
    "arr_distribution = panels_valid['arrondissement_clean'].value_counts().sort_index()\n",
    "arr_distribution_df = arr_distribution.reset_index()\n",
    "arr_distribution_df.columns = ['arrondissement', 'panel_count']\n",
    "print(arr_distribution_df.to_string(index=False))\n",
    "\n",
    "print(f\"\\nCoverage validation:\")\n",
    "covered_arr = len(arr_distribution)\n",
    "print(f\"Arrondissements covered: {covered_arr}/20 ({covered_arr/20*100:.1f}%)\")\n",
    "print(f\"Average panels per arrondissement: {len(panels_valid)/covered_arr:.1f}\")\n",
    "\n",
    "# Verify we have all arrondissements\n",
    "all_paris_arr = set([str(i) for i in range(1, 21)])\n",
    "covered_arr_set = set(arr_distribution.index)\n",
    "missing_arr = all_paris_arr - covered_arr_set\n",
    "\n",
    "if missing_arr:\n",
    "    print(f\"Missing arrondissements: {sorted(list(missing_arr))}\")\n",
    "else:\n",
    "    print(\"Complete Paris coverage achieved!\")"
   ]
  },
  {
   "cell_type": "code",
   "execution_count": 37,
   "metadata": {},
   "outputs": [
    {
     "name": "stdout",
     "output_type": "stream",
     "text": [
      "PANEL FORMAT ANALYSIS\n",
      "==============================\n",
      "1m² panels: 41\n",
      "2m² panels: 246\n",
      "Total panel area: 533 m²\n",
      "\n",
      "Format distribution by arrondissement:\n",
      "arrondissement_clean  format_1m2  format_2m2  total_panels  total_area\n",
      "                   1         1.0         3.0           4.0         7.0\n",
      "                  10         0.0        10.0          10.0        20.0\n",
      "                  11         0.0        22.0          22.0        44.0\n",
      "                  12         8.0        14.0          22.0        36.0\n",
      "                  13         3.0        23.0          26.0        49.0\n",
      "                  14         0.0        17.0          17.0        34.0\n",
      "                  15         0.0        15.0          15.0        30.0\n",
      "                  16         0.0        13.0          13.0        26.0\n",
      "                  17         0.0        18.0          18.0        36.0\n",
      "                  18         0.0        20.0          20.0        40.0\n",
      "                  19         0.0        33.0          33.0        66.0\n",
      "                   2         0.0         2.0           2.0         4.0\n",
      "                  20         9.0        26.0          35.0        61.0\n",
      "                   3         2.0         0.0           2.0         2.0\n",
      "                   4         1.0         5.0           6.0        11.0\n",
      "                   5         7.0         4.0          11.0        15.0\n",
      "                   6        10.0         2.0          12.0        14.0\n",
      "                   7         0.0         6.0           6.0        12.0\n",
      "                   8         0.0         6.0           6.0        12.0\n",
      "                   9         0.0         7.0           7.0        14.0\n",
      "\n",
      "Format preferences:\n",
      "1m² preference: 14.3%\n",
      "2m² preference: 85.7%\n"
     ]
    }
   ],
   "source": [
    "# Convert format columns to numeric\n",
    "panels_valid['format_1m2'] = pd.to_numeric(panels_valid['format_1m2'], errors='coerce').fillna(0)\n",
    "panels_valid['format_2m2'] = pd.to_numeric(panels_valid['format_2m2'], errors='coerce').fillna(0)\n",
    "\n",
    "print(\"PANEL FORMAT ANALYSIS\")\n",
    "print(\"=\" * 30)\n",
    "print(f\"1m² panels: {int(panels_valid['format_1m2'].sum())}\")\n",
    "print(f\"2m² panels: {int(panels_valid['format_2m2'].sum())}\")\n",
    "print(f\"Total panel area: {int(panels_valid['format_1m2'].sum() + panels_valid['format_2m2'].sum() * 2)} m²\")\n",
    "\n",
    "panels_valid['total_panels'] = panels_valid['format_1m2'] + panels_valid['format_2m2']\n",
    "panels_valid['total_area'] = panels_valid['format_1m2'] + panels_valid['format_2m2'] * 2\n",
    "\n",
    "format_summary = panels_valid.groupby('arrondissement_clean').agg({\n",
    "    'format_1m2': 'sum',\n",
    "    'format_2m2': 'sum', \n",
    "    'total_panels': 'sum',\n",
    "    'total_area': 'sum'\n",
    "}).reset_index()\n",
    "\n",
    "print(f\"\\nFormat distribution by arrondissement:\")\n",
    "print(format_summary.to_string(index=False))\n",
    "\n",
    "print(f\"\\nFormat preferences:\")\n",
    "total_1m2 = panels_valid['format_1m2'].sum()\n",
    "total_2m2 = panels_valid['format_2m2'].sum()\n",
    "print(f\"1m² preference: {total_1m2/(total_1m2+total_2m2)*100:.1f}%\")\n",
    "print(f\"2m² preference: {total_2m2/(total_1m2+total_2m2)*100:.1f}%\")"
   ]
  },
  {
   "cell_type": "code",
   "execution_count": 38,
   "metadata": {},
   "outputs": [
    {
     "name": "stdout",
     "output_type": "stream",
     "text": [
      "COORDINATE PROCESSING\n",
      "=========================\n",
      "✅ Using existing coordinate columns from ETL output\n",
      "Successfully processed coordinates: 285/287 records\n",
      "Coordinate success rate: 99.3%\n",
      "Latitude range: 48.8197 to 48.8997\n",
      "Longitude range: 2.2549 to 2.4129\n",
      "Unique panel locations: 274\n",
      "\n",
      "Coordinates by arrondissement:\n",
      "arrondissement_clean  coord_count\n",
      "                   1            4\n",
      "                  10           10\n",
      "                  11           22\n",
      "                  12           20\n",
      "                  13           26\n",
      "                  14           17\n",
      "                  15           15\n",
      "                  16           13\n",
      "                  17           18\n",
      "                  18           20\n",
      "\n",
      "🎯 COORDINATE QUALITY ASSESSMENT:\n",
      "  Data completeness: 99.3%\n",
      "  Geographic spread: 9.6 std deviation\n",
      "  Ready for spatial analysis: ✅\n"
     ]
    }
   ],
   "source": [
    "# FIXED COORDINATE PROCESSING - No more KeyError!\n",
    "# Your ETL already outputs longitude/latitude columns directly\n",
    "\n",
    "print(f\"COORDINATE PROCESSING\")\n",
    "print(f\"=\" * 25)\n",
    "\n",
    "# Check if coordinate columns exist (they should from your ETL)\n",
    "if 'longitude' in panels_valid.columns and 'latitude' in panels_valid.columns:\n",
    "    print(f\"✅ Using existing coordinate columns from ETL output\")\n",
    "    \n",
    "    # Convert coordinate strings to numbers and validate\n",
    "    def validate_paris_coords(row):\n",
    "        try:\n",
    "            lat = float(row['latitude']) if not pd.isna(row['latitude']) else None\n",
    "            lon = float(row['longitude']) if not pd.isna(row['longitude']) else None\n",
    "            \n",
    "            if lat is None or lon is None:\n",
    "                return False\n",
    "            # Paris coordinate bounds\n",
    "            return 48.8 < lat < 48.9 and 2.2 < lon < 2.5\n",
    "        except (ValueError, TypeError):\n",
    "            return False\n",
    "    \n",
    "    # Filter for valid coordinates\n",
    "    valid_coords = panels_valid[\n",
    "        panels_valid[['latitude', 'longitude']].notna().all(axis=1) &\n",
    "        panels_valid.apply(validate_paris_coords, axis=1)\n",
    "    ].copy()\n",
    "    \n",
    "    # Convert to numeric for analysis\n",
    "    valid_coords['latitude'] = pd.to_numeric(valid_coords['latitude'], errors='coerce')\n",
    "    valid_coords['longitude'] = pd.to_numeric(valid_coords['longitude'], errors='coerce')\n",
    "    \n",
    "    print(f\"Successfully processed coordinates: {len(valid_coords):,}/{len(panels_valid):,} records\")\n",
    "    print(f\"Coordinate success rate: {len(valid_coords)/len(panels_valid)*100:.1f}%\")\n",
    "    \n",
    "    if len(valid_coords) > 0:\n",
    "        print(f\"Latitude range: {valid_coords['latitude'].min():.4f} to {valid_coords['latitude'].max():.4f}\")\n",
    "        print(f\"Longitude range: {valid_coords['longitude'].min():.4f} to {valid_coords['longitude'].max():.4f}\")\n",
    "        \n",
    "        # Check for unique locations\n",
    "        unique_locations = valid_coords.groupby(['arrondissement_clean', 'latitude', 'longitude']).size().reset_index(name='records')\n",
    "        print(f\"Unique panel locations: {len(unique_locations)}\")\n",
    "        \n",
    "        # Coordinates by arrondissement\n",
    "        coords_by_arr = valid_coords.groupby('arrondissement_clean').size().reset_index(name='coord_count')\n",
    "        print(f\"\\nCoordinates by arrondissement:\")\n",
    "        print(coords_by_arr.head(10).to_string(index=False))\n",
    "        \n",
    "        print(f\"\\n🎯 COORDINATE QUALITY ASSESSMENT:\")\n",
    "        print(f\"  Data completeness: {len(valid_coords)/len(panels_valid)*100:.1f}%\")\n",
    "        print(f\"  Geographic spread: {coords_by_arr['coord_count'].std():.1f} std deviation\")\n",
    "        print(f\"  Ready for spatial analysis: ✅\")\n",
    "    else:\n",
    "        print(\"⚠️ No valid coordinates found!\")\n",
    "        \n",
    "else:\n",
    "    print(\"❌ ERROR: longitude/latitude columns not found!\")\n",
    "    print(\"Available columns:\", list(panels_valid.columns))\n",
    "    print(\"🔧 Need to check ETL transformation process\")\n",
    "    valid_coords = pd.DataFrame()  # Empty fallback"
   ]
  },
  {
   "cell_type": "code",
   "execution_count": 39,
   "metadata": {},
   "outputs": [
    {
     "name": "stdout",
     "output_type": "stream",
     "text": [
      "INFRASTRUCTURE DENSITY ANALYSIS\n",
      "========================================\n",
      "Top 10 infrastructure rankings:\n",
      "arrondissement_clean  total_panels  total_area  panel_density  infrastructure_score\n",
      "                  19          33.0        66.0           4.85                 34.46\n",
      "                  20          35.0        61.0           5.83                 34.05\n",
      "                  13          26.0        49.0           3.66                 26.20\n",
      "                  11          22.0        44.0           5.95                 23.78\n",
      "                  18          20.0        40.0           3.33                 21.00\n",
      "                  12          22.0        36.0           3.44                 20.63\n",
      "                  17          18.0        36.0           3.16                 18.95\n",
      "                  14          17.0        34.0           3.04                 17.91\n",
      "                  15          15.0        30.0           1.76                 15.53\n",
      "                  16          13.0        26.0           1.65                 13.49\n",
      "\n",
      "Density insights:\n",
      "Highest density: Arr. 19 (4.85 panels/km²)\n",
      "Lowest density: Arr. 3 (1.67 panels/km²)\n",
      "Average density: 3.29 panels/km²\n"
     ]
    }
   ],
   "source": [
    "arr_areas = {\n",
    "    '1': 1.8, '2': 1.0, '3': 1.2, '4': 1.6, '5': 2.5, '6': 2.2, '7': 4.1, '8': 3.9, '9': 2.2, '10': 2.9,\n",
    "    '11': 3.7, '12': 6.4, '13': 7.1, '14': 5.6, '15': 8.5, '16': 7.9, '17': 5.7, '18': 6.0, '19': 6.8, '20': 6.0\n",
    "}\n",
    "\n",
    "panel_analysis = format_summary.copy()\n",
    "panel_analysis['area_km2'] = panel_analysis['arrondissement_clean'].map(arr_areas)\n",
    "panel_analysis['panel_density'] = panel_analysis['total_panels'] / panel_analysis['area_km2']\n",
    "panel_analysis['area_density'] = panel_analysis['total_area'] / panel_analysis['area_km2']\n",
    "\n",
    "panel_analysis['infrastructure_score'] = (\n",
    "    panel_analysis['total_panels'] * 0.4 + \n",
    "    panel_analysis['total_area'] * 0.3 + \n",
    "    panel_analysis['panel_density'] * 0.3\n",
    ")\n",
    "\n",
    "panel_analysis = panel_analysis.sort_values('infrastructure_score', ascending=False)\n",
    "\n",
    "print(\"INFRASTRUCTURE DENSITY ANALYSIS\")\n",
    "print(\"=\" * 40)\n",
    "print(\"Top 10 infrastructure rankings:\")\n",
    "print(panel_analysis[['arrondissement_clean', 'total_panels', 'total_area', 'panel_density', 'infrastructure_score']].head(10).round(2).to_string(index=False))\n",
    "\n",
    "print(f\"\\nDensity insights:\")\n",
    "print(f\"Highest density: Arr. {panel_analysis.iloc[0]['arrondissement_clean']} ({panel_analysis.iloc[0]['panel_density']:.2f} panels/km²)\")\n",
    "print(f\"Lowest density: Arr. {panel_analysis.iloc[-1]['arrondissement_clean']} ({panel_analysis.iloc[-1]['panel_density']:.2f} panels/km²)\")\n",
    "print(f\"Average density: {panel_analysis['panel_density'].mean():.2f} panels/km²\")"
   ]
  },
  {
   "cell_type": "code",
   "execution_count": 40,
   "metadata": {},
   "outputs": [
    {
     "data": {
      "image/png": "[encoded data removed]",
      "text/plain": [
       "<Figure size 1800x1200 with 7 Axes>"
      ]
     },
     "metadata": {},
     "output_type": "display_data"
    }
   ],
   "source": [
    "fig, axes = plt.subplots(2, 3, figsize=(18, 12))\n",
    "\n",
    "# 1. Panel count by arrondissement\n",
    "arr_viz = arr_distribution_df.head(15)\n",
    "bars1 = axes[0,0].bar(arr_viz['arrondissement'], arr_viz['panel_count'], color='skyblue')\n",
    "axes[0,0].set_title('Panel Count by Arrondissement', fontweight='bold', fontsize=14)\n",
    "axes[0,0].set_xlabel('Arrondissement')\n",
    "axes[0,0].set_ylabel('Panel Count')\n",
    "axes[0,0].tick_params(axis='x', rotation=45)\n",
    "\n",
    "for bar, count in zip(bars1, arr_viz['panel_count']):\n",
    "    axes[0,0].text(bar.get_x() + bar.get_width()/2, bar.get_height() + 0.5, \n",
    "                   str(count), ha='center', fontweight='bold', fontsize=9)\n",
    "\n",
    "# 2. Format distribution pie chart\n",
    "format_data = [int(panels_valid['format_1m2'].sum()), int(panels_valid['format_2m2'].sum())]\n",
    "format_labels = ['1m² panels', '2m² panels']\n",
    "colors = ['lightblue', 'orange']\n",
    "wedges, texts, autotexts = axes[0,1].pie(format_data, labels=format_labels, autopct='%1.1f%%', \n",
    "                                        colors=colors, startangle=90)\n",
    "axes[0,1].set_title('Panel Format Distribution', fontweight='bold', fontsize=14)\n",
    "\n",
    "# 3. Panel density ranking\n",
    "top_density = panel_analysis.head(12)\n",
    "bars2 = axes[0,2].bar(top_density['arrondissement_clean'], top_density['panel_density'], color='lightgreen')\n",
    "axes[0,2].set_title('Panel Density (panels/km²)', fontweight='bold', fontsize=14)\n",
    "axes[0,2].set_xlabel('Arrondissement')\n",
    "axes[0,2].set_ylabel('Panels per km²')\n",
    "axes[0,2].tick_params(axis='x', rotation=45)\n",
    "\n",
    "# 4. Total area by arrondissement\n",
    "top_area = panel_analysis.head(12)\n",
    "bars3 = axes[1,0].bar(top_area['arrondissement_clean'], top_area['total_area'], color='coral')\n",
    "axes[1,0].set_title('Total Panel Area (m²)', fontweight='bold', fontsize=14)\n",
    "axes[1,0].set_xlabel('Arrondissement')\n",
    "axes[1,0].set_ylabel('Total Area (m²)')\n",
    "axes[1,0].tick_params(axis='x', rotation=45)\n",
    "\n",
    "# 5. Infrastructure score ranking\n",
    "bars4 = axes[1,1].bar(top_density['arrondissement_clean'], top_density['infrastructure_score'], color='gold')\n",
    "axes[1,1].set_title('Infrastructure Score Ranking', fontweight='bold', fontsize=14)\n",
    "axes[1,1].set_xlabel('Arrondissement')\n",
    "axes[1,1].set_ylabel('Infrastructure Score')\n",
    "axes[1,1].tick_params(axis='x', rotation=45)\n",
    "\n",
    "# 6. Panels vs Area scatter\n",
    "scatter = axes[1,2].scatter(panel_analysis['total_panels'], panel_analysis['total_area'], \n",
    "                           s=100, c=panel_analysis['panel_density'], cmap='viridis', alpha=0.7)\n",
    "axes[1,2].set_title('Panels vs Area (Color = Density)', fontweight='bold', fontsize=14)\n",
    "axes[1,2].set_xlabel('Total Panels')\n",
    "axes[1,2].set_ylabel('Total Area (m²)')\n",
    "plt.colorbar(scatter, ax=axes[1,2], label='Panel Density')\n",
    "\n",
    "for _, row in panel_analysis.iterrows():\n",
    "    axes[1,2].annotate(row['arrondissement_clean'], \n",
    "                      (row['total_panels'], row['total_area']),\n",
    "                      xytext=(3, 3), textcoords='offset points', fontsize=8)\n",
    "\n",
    "plt.tight_layout()\n",
    "plt.show()"
   ]
  },
  {
   "cell_type": "code",
   "execution_count": 41,
   "metadata": {},
   "outputs": [
    {
     "data": {
      "application/vnd.plotly.v1+json": {
       "config": {
        "plotlyServerURL": "https://plot.ly"
       },
       "data": [
        {
         "customdata": [
          [
           "42, rue Madame",
           "6",
           1,
           1,
           48.848934,
           2.331602
          ],
          [
           "31, rue Pierre Semard",
           "9",
           1,
           2,
           48.879105,
           2.348291
          ],
          [
           "24, rue Saint Sébastien",
           "11",
           1,
           2,
           48.861114,
           2.369434
          ],
          [
           "132, rue d Alésia",
           "14",
           1,
           2,
           48.830516,
           2.319421
          ],
          [
           "4-6, rue du Bessin",
           "15",
           1,
           2,
           48.831051,
           2.305727
          ],
          [
           "6, avenue de la porte de Clichy",
           "17",
           1,
           2,
           48.894694,
           2.313008
          ],
          [
           "2, rue Ronsard",
           "18",
           1,
           2,
           48.884999,
           2.344249
          ],
          [
           "1, rue Pihet",
           "11",
           1,
           2,
           48.863455,
           2.373882
          ],
          [
           "35, rue de l Evangile",
           "18",
           1,
           2,
           48.894071,
           2.365278
          ],
          [
           "97, rue Mouffetard",
           "5",
           1,
           1,
           48.84134,
           2.349685
          ],
          [
           "6, rue Littré",
           "6",
           1,
           1,
           48.845747,
           2.323705
          ],
          [
           "rue Lachelier",
           "13",
           1,
           2,
           48.819702,
           2.365939
          ],
          [
           "13, rue Vulpian",
           "13",
           1,
           2,
           48.83154,
           2.34649
          ],
          [
           "59/59bis, rue de Romainville",
           "19",
           1,
           2,
           48.877388,
           2.403386
          ],
          [
           "3, rue de l'Epée de Bois",
           "5",
           1,
           1,
           48.841557,
           2.351354
          ],
          [
           "15, rue des Volontaires",
           "15",
           1,
           2,
           48.841682,
           2.307794
          ],
          [
           "32-34, rue Alsace Lorraine",
           "19",
           1,
           2,
           48.882991,
           2.392785
          ],
          [
           "34-54, avenue Marc Sangnier",
           "14",
           1,
           2,
           48.825938,
           2.30741
          ],
          [
           "Avenue de la Porte de Pantin",
           "19",
           1,
           2,
           48.88998,
           2.397958
          ],
          [
           "10 rue Huyghens",
           "14",
           1,
           2,
           48.840883,
           2.328593
          ],
          [
           "58-60, rue de l Amiral Bruix",
           "16",
           1,
           2,
           48.875254,
           2.280587
          ],
          [
           "11, rue Drouot",
           "9",
           1,
           2,
           48.873382,
           2.34045
          ],
          [
           "58, rue Erlanger",
           "16",
           1,
           2,
           48.844134,
           2.259622
          ],
          [
           "41, rue de Tanger",
           "19",
           1,
           2,
           48.887761,
           2.370231
          ],
          [
           "38, rue de tourtille",
           "20",
           1,
           1,
           48.872432,
           2.380281
          ],
          [
           "48, rue du Chateau Landon",
           "10",
           1,
           2,
           48.883223,
           2.364032
          ],
          [
           "école élémentaire : 84, rue Curial",
           "19",
           1,
           2,
           48.894902,
           2.374613
          ],
          [
           "29, avenue Gambetta",
           "20",
           1,
           1,
           48.864014,
           2.391763
          ],
          [
           "36, rue le Vau",
           "20",
           1,
           2,
           48.869824,
           2.410873
          ],
          [
           "85, boulevard Raspail",
           "6",
           1,
           2,
           48.847852,
           2.328112
          ],
          [
           "14, rue d Alésia",
           "14",
           1,
           2,
           48.827862,
           2.332862
          ],
          [
           "39, rue Saint-André des Arts",
           "6",
           1,
           1,
           48.853272,
           2.341287
          ],
          [
           "54, rue Planchat",
           "20",
           1,
           2,
           48.855971,
           2.396469
          ],
          [
           "162, boulevard Murat",
           "16",
           1,
           2,
           48.838878,
           2.26544
          ],
          [
           "15, Cour Debille",
           "11",
           1,
           2,
           48.855876,
           2.379842
          ],
          [
           "345-347, rue de Belleville",
           "19",
           1,
           2,
           48.874919,
           2.391482
          ],
          [
           "28, rue Olivier Métra",
           "20",
           1,
           2,
           48.87328,
           2.393873
          ],
          [
           "8, rue  Pierre Foncin",
           "20",
           1,
           1,
           48.871358,
           2.409702
          ],
          [
           "50, rue Emeriau",
           "15",
           1,
           2,
           48.849521,
           2.286048
          ],
          [
           "7, rue Fernand Laborie",
           "18",
           1,
           2,
           48.898533,
           2.342267
          ],
          [
           "101, rue Rambuteau",
           "1",
           1,
           1,
           48.862744,
           2.346663
          ],
          [
           "50, rue Lacépède",
           "5",
           1,
           1,
           48.84438,
           2.349986
          ],
          [
           "100 rue de Charenton -",
           "12",
           1,
           1,
           48.847696,
           2.376957
          ],
          [
           "118, quai de Jemmapes",
           "10",
           1,
           2,
           48.874978,
           2.36381
          ],
          [
           "10, boulevard Murat",
           "16",
           1,
           2,
           48.846838,
           2.258228
          ],
          [
           "13-15, rue Jean de la Fontaine",
           "16",
           1,
           2,
           48.850615,
           2.270749
          ],
          [
           "101, rue de Saussure",
           "17",
           1,
           2,
           48.887438,
           2.311703
          ],
          [
           "20, rue de Musset",
           "16",
           1,
           2,
           48.842381,
           2.263429
          ],
          [
           "37, rue Armand Carrel",
           "19",
           1,
           2,
           48.882603,
           2.377818
          ],
          [
           "81-91, Rue de la Réunion",
           "20",
           1,
           1,
           48.85645,
           2.40025
          ],
          [
           "angle Alibert / Claude Vellefaux",
           "10",
           1,
           2,
           48.874893,
           2.370246
          ],
          [
           "16, rue Wurtz",
           "13",
           1,
           1,
           48.826924,
           2.344612
          ],
          [
           "22, rue Saint Maur",
           "11",
           1,
           2,
           48.860315,
           2.382034
          ],
          [
           "200, rue Saint Maur",
           "10",
           1,
           2,
           48.872242,
           2.371675
          ],
          [
           "47 rue de Picpus",
           "12",
           1,
           1,
           48.843372,
           2.39699
          ],
          [
           "18, avenue de la porte de Chatillon",
           "14",
           1,
           2,
           48.823693,
           2.317013
          ],
          [
           "315, rue de Charenton",
           "12",
           1,
           2,
           48.833639,
           2.395135
          ],
          [
           "12, rue du Docteur Laurent",
           "13",
           1,
           2,
           48.824915,
           2.355973
          ],
          [
           "3, avenue Boudon / angle rue du Père Brottier",
           "16",
           1,
           2,
           48.850202,
           2.270562
          ],
          [
           "13, rue de Tanger",
           "19",
           1,
           2,
           48.885177,
           2.367735
          ],
          [
           "48, rue Vaneau",
           "7",
           1,
           2,
           48.851211,
           2.31916
          ],
          [
           "83 avenue du Général Michel Bizot",
           "12",
           1,
           1,
           48.837242,
           2.403541
          ],
          [
           "51 rue François Truffaut",
           "12",
           1,
           1,
           48.834272,
           2.387186
          ],
          [
           "229, rue de Courcelles",
           "17",
           1,
           2,
           48.889534,
           2.292691
          ],
          [
           "6 rue de Metz",
           "10",
           1,
           2,
           48.870887,
           2.35392
          ],
          [
           "26, boulevard Carnot",
           "12",
           1,
           2,
           48.843494,
           2.412916
          ],
          [
           "30 Rue de la Breche aux loups",
           "12",
           1,
           2,
           48.837481,
           2.394145
          ],
          [
           "47, rue de Saussure",
           "17",
           1,
           2,
           48.885256,
           2.314919
          ],
          [
           "31, rue Godeffroy Cavaignac",
           "11",
           1,
           2,
           48.856139,
           2.380504
          ],
          [
           "112 Boulevards des Maréchaux",
           "17",
           1,
           2,
           48.883796,
           2.309226
          ],
          [
           "81, boulevard Massena",
           "13",
           1,
           2,
           48.820839,
           2.368247
          ],
          [
           "15-17, rue Rampal",
           "19",
           1,
           2,
           48.874325,
           2.379553
          ],
          [
           "49, boulevard Menilmontant",
           "11",
           1,
           2,
           48.862694,
           2.386531
          ],
          [
           "95 rue du temple",
           "3",
           1,
           1,
           48.862048,
           2.356976
          ],
          [
           "6, avenue Maurice Ravel",
           "12",
           1,
           2,
           48.841801,
           2.411745
          ],
          [
           "7, rue Paul Appell",
           "14",
           1,
           2,
           48.821674,
           2.326294
          ],
          [
           "8, square Lamarck",
           "18",
           1,
           2,
           48.890833,
           2.335818
          ],
          [
           "87, avenue Jean Jaurès",
           "19",
           1,
           2,
           48.885302,
           2.379333
          ],
          [
           "26, rue Boulay",
           "17",
           1,
           2,
           48.894664,
           2.318374
          ],
          [
           "29, rue Hermel",
           "18",
           1,
           2,
           48.891616,
           2.344508
          ],
          [
           "8, rue Sadi Lecointe",
           "19",
           1,
           2,
           48.880356,
           2.373876
          ],
          [
           "21, rue Saint Louis en l'Isle",
           "4",
           1,
           2,
           48.851526,
           2.357251
          ],
          [
           "2, rue Eugène Reisz",
           "20",
           1,
           2,
           48.85643,
           2.410685
          ],
          [
           "40, rue Vandrezane",
           "13",
           1,
           2,
           48.827774,
           2.35322
          ],
          [
           "15-33 Avenue de la Porte des Poissonniers",
           "18",
           1,
           2,
           48.899663,
           2.352423
          ],
          [
           "5, rue Noyer Durand",
           "19",
           1,
           2,
           48.886727,
           2.399121
          ],
          [
           "23, rue Jacquier",
           "14",
           1,
           2,
           48.829979,
           2.316987
          ],
          [
           "160-162, rue Championnet",
           "18",
           1,
           2,
           48.895048,
           2.340169
          ],
          [
           "64 rue de Beaubourg",
           "3",
           1,
           1,
           48.863243,
           2.354553
          ],
          [
           "40, rue des Meuniers",
           "12",
           1,
           2,
           48.834878,
           2.396294
          ],
          [
           "18, rue Jean Zay",
           "14",
           1,
           2,
           48.837607,
           2.320578
          ],
          [
           "130, boulevard de Clichy",
           "9",
           1,
           2,
           48.882984,
           2.334409
          ],
          [
           "3, passage Bullourde",
           "11",
           1,
           2,
           48.854709,
           2.376653
          ],
          [
           "103, rue de la Croix Nivert",
           "15",
           1,
           2,
           48.842595,
           2.294888
          ],
          [
           "11, rue Jean Rey",
           "15",
           1,
           2,
           48.855395,
           2.291447
          ],
          [
           "82, rue Pernetty",
           "14",
           1,
           2,
           48.835399,
           2.315742
          ],
          [
           "9 rue Polonceau",
           "18",
           1,
           2,
           48.885396,
           2.353862
          ],
          [
           "53 allée Darius Milhaud",
           "19",
           1,
           2,
           48.88457,
           2.390867
          ],
          [
           "293, rue des Pyrénées",
           "20",
           1,
           2,
           48.869368,
           2.394918
          ],
          [
           "18, rue Faidherbe",
           "11",
           1,
           2,
           48.851602,
           2.383955
          ],
          [
           "18, avenue de la prte Brancion",
           "15",
           1,
           2,
           48.826626,
           2.300413
          ],
          [
           "2, rue Féssart",
           "19",
           1,
           2,
           48.876172,
           2.38915
          ],
          [
           "5, rue Mouraud",
           "20",
           1,
           2,
           48.854708,
           2.407777
          ],
          [
           "25, rue de Rivoli",
           "4",
           1,
           2,
           48.856693,
           2.355152
          ],
          [
           "15 Rue Girardon",
           "18",
           1,
           2,
           48.888084,
           2.33782
          ],
          [
           "104-106 Rue Compans",
           "19",
           1,
           2,
           48.880396,
           2.389772
          ],
          [
           "24, rue de la Cour des Noues",
           "20",
           1,
           1,
           48.864378,
           2.401004
          ],
          [
           "68, boulevard Poniatowski",
           "12",
           1,
           2,
           48.832161,
           2.399323
          ],
          [
           "77, rue d Alésia",
           "14",
           1,
           2,
           48.82773,
           2.327953
          ],
          [
           "9, rue des Alouettes",
           "19",
           1,
           2,
           48.877519,
           2.385354
          ],
          [
           "7, rue Barbanègre",
           "19",
           1,
           2,
           48.892135,
           2.382858
          ],
          [
           "17-19, rue Blomet",
           "15",
           1,
           2,
           48.843156,
           2.307197
          ],
          [
           "42, rue de la Mare",
           "20",
           1,
           1,
           48.871094,
           2.389959
          ],
          [
           "148, avenue Gambetta",
           "20",
           1,
           2,
           48.875389,
           2.406186
          ],
          [
           "11, rue Valette",
           "5",
           1,
           1,
           48.847557,
           2.346916
          ],
          [
           "88, boulevard Bessière",
           "17",
           1,
           2,
           48.896536,
           2.319314
          ],
          [
           "17, avenue Edison",
           "13",
           1,
           2,
           48.827738,
           2.364285
          ],
          [
           "2, rue de la Guadeloupe",
           "18",
           1,
           2,
           48.890753,
           2.362625
          ],
          [
           "36, rue Féssart",
           "19",
           1,
           2,
           48.876827,
           2.384217
          ],
          [
           "5, place Paul Verlaine",
           "13",
           1,
           2,
           48.827428,
           2.352475
          ],
          [
           "5, place Hebert",
           "18",
           1,
           2,
           48.893105,
           2.363213
          ],
          [
           "26, rue Maryse Hilz",
           "20",
           1,
           2,
           48.852133,
           2.412878
          ],
          [
           "46/48, rue du Rocher",
           "8",
           1,
           2,
           48.877866,
           2.320526
          ],
          [
           "115, boulevard Charonne",
           "11",
           1,
           2,
           48.856591,
           2.393939
          ],
          [
           "15, rue Guersant",
           "17",
           1,
           2,
           48.880565,
           2.290199
          ],
          [
           "16, rue de l Atlas",
           "19",
           1,
           2,
           48.875505,
           2.376595
          ],
          [
           "18, rue Maryse Hilsz",
           "20",
           1,
           2,
           48.850531,
           2.412835
          ],
          [
           "19, rue de l'arbre sec",
           "1",
           1,
           2,
           48.859896,
           2.342026
          ],
          [
           "4, rue Cler",
           "7",
           1,
           2,
           48.85878,
           2.305271
          ],
          [
           "22, boulevard Poissonnière",
           "9",
           1,
           2,
           48.871326,
           2.345109
          ],
          [
           "142, rue des Poissonniers",
           "18",
           1,
           2,
           48.896602,
           2.352861
          ],
          [
           "112, rue de Rennes",
           "6",
           1,
           1,
           48.847869,
           2.327529
          ],
          [
           "28, rue du Général Foy",
           "8",
           1,
           2,
           48.878822,
           2.317688
          ],
          [
           "45-59, rue de Romainville",
           "19",
           1,
           2,
           48.877377,
           2.403219
          ],
          [
           "square des Amandiers",
           "20",
           1,
           2,
           48.86577,
           2.389248
          ],
          [
           "30/40, rue Emeriau",
           "15",
           1,
           2,
           48.849731,
           2.286149
          ],
          [
           "4-8, rue Brunetiere",
           "17",
           1,
           2,
           48.890317,
           2.30087
          ],
          [
           "6, rue pommard",
           "12",
           1,
           2,
           48.835968,
           2.384587
          ],
          [
           "5bis, rue Eugène Oudine",
           "13",
           1,
           2,
           48.825781,
           2.375676
          ],
          [
           "7-29, rue Eugénie Cotton",
           "19",
           1,
           2,
           48.878594,
           2.394505
          ],
          [
           "4, rue Mercoeur",
           "11",
           1,
           2,
           48.856892,
           2.383143
          ],
          [
           "40 Jacques Hillairet",
           "12",
           1,
           1,
           48.843121,
           2.388838
          ],
          [
           "22, rue Jean Leclaire",
           "17",
           1,
           2,
           48.896619,
           2.327266
          ],
          [
           "8, rue Jean Francois Lepine",
           "18",
           1,
           2,
           48.886176,
           2.358258
          ],
          [
           "12, rue René Binet",
           "18",
           1,
           2,
           48.899487,
           2.342365
          ],
          [
           "15, rue Sorbier",
           "20",
           1,
           2,
           48.866319,
           2.392293
          ],
          [
           "108, avenue Philippe Auguste",
           "11",
           1,
           2,
           48.856704,
           2.390985
          ],
          [
           "25, rue de la Bidassoa",
           "20",
           1,
           2,
           48.866346,
           2.393403
          ],
          [
           "33, rue Saint Bernard",
           "11",
           1,
           2,
           48.852838,
           2.38079
          ],
          [
           "185, avenue de Versailles",
           "16",
           1,
           2,
           48.839895,
           2.263832
          ],
          [
           "153, avenue Gambetta",
           "20",
           1,
           1,
           48.87009,
           2.402914
          ],
          [
           "36, rue des Docteurs Dejerine",
           "20",
           1,
           2,
           48.856862,
           2.411724
          ],
          [
           "19, rue de Lagny",
           "20",
           1,
           2,
           48.848913,
           2.401828
          ],
          [
           "Face au 8, rue des Recollets",
           "10",
           1,
           2,
           48.874437,
           2.362063
          ],
          [
           "Place d'Aligre",
           "12",
           1,
           1,
           48.848901,
           2.378282
          ],
          [
           "8, rue Kuss",
           "13",
           1,
           2,
           48.822231,
           2.351299
          ],
          [
           "12, rue Severo",
           "14",
           1,
           2,
           48.832453,
           2.323515
          ],
          [
           "163, boulevard Mortier",
           "20",
           1,
           2,
           48.875444,
           2.407428
          ],
          [
           "91, rue des Orteaux",
           "20",
           1,
           2,
           48.855933,
           2.407425
          ],
          [
           "58, rue de Clisson",
           "13",
           1,
           2,
           48.830739,
           2.36599
          ],
          [
           "1-3, rue des Jardins Saint-Paul",
           "4",
           1,
           1,
           48.853472,
           2.360729
          ],
          [
           "87, rue de Vaugirard",
           "6",
           1,
           1,
           48.8459,
           2.323206
          ],
          [
           "56, boulevard Ney",
           "18",
           1,
           2,
           48.898888,
           2.364393
          ],
          [
           "40, rue Manin",
           "19",
           1,
           2,
           48.883806,
           2.390199
          ],
          [
           "24, rue Louis Braille",
           "12",
           1,
           2,
           48.839681,
           2.402816
          ],
          [
           "61, rue Dunois",
           "13",
           1,
           2,
           48.832514,
           2.367048
          ],
          [
           "146, avenue Félix Faure",
           "15",
           1,
           2,
           48.837349,
           2.279298
          ],
          [
           "62, rue Lepic",
           "18",
           1,
           2,
           48.886937,
           2.333966
          ],
          [
           "9/11, rue de la Plaine",
           "20",
           1,
           2,
           48.850003,
           2.400272
          ],
          [
           "106, rue Compans",
           "19",
           1,
           2,
           48.880396,
           2.389772
          ],
          [
           "13, rue Caillaux",
           "13",
           1,
           2,
           48.822585,
           2.36113
          ],
          [
           "70, rue Armand Carrel",
           "19",
           1,
           2,
           48.882999,
           2.373478
          ],
          [
           "4, rue Keller",
           "11",
           1,
           2,
           48.853623,
           2.376853
          ],
          [
           "9, rue des Alouettes",
           "19",
           1,
           2,
           48.877519,
           2.385354
          ],
          [
           "156, avenue Jean Jaurès",
           "19",
           1,
           2,
           48.887206,
           2.387708
          ],
          [
           "14, rue du renard",
           "4",
           1,
           2,
           48.858908,
           2.352294
          ],
          [
           "16, rue de Roquepine",
           "8",
           1,
           2,
           48.873349,
           2.318485
          ],
          [
           "32, place Jeanne d'Arc",
           "13",
           1,
           2,
           48.83056,
           2.368114
          ],
          [
           "32, rue Pali Kao",
           "20",
           1,
           1,
           48.870411,
           2.382195
          ],
          [
           "71, rue de Richelieu",
           "2",
           1,
           2,
           48.868252,
           2.338158
          ],
          [
           "12, rue Lobineau",
           "6",
           1,
           1,
           48.851743,
           2.33594
          ],
          [
           "20 rue Edouard Pailleron",
           "19",
           1,
           2,
           48.880402,
           2.376535
          ],
          [
           "4, rue Lobau",
           "4",
           1,
           2,
           48.856579,
           2.353831
          ],
          [
           "15 bis, rue Buffon",
           "5",
           1,
           1,
           48.842548,
           2.361878
          ],
          [
           "1, rue Jean Calvin",
           "5",
           1,
           2,
           48.841614,
           2.348999
          ],
          [
           "93, rue d Alésia",
           "14",
           1,
           2,
           48.828016,
           2.325898
          ],
          [
           "55/61, rue Maurice Ripoche",
           "14",
           1,
           2,
           48.833421,
           2.32257
          ],
          [
           "11, boulevard de Grenelle",
           "15",
           1,
           2,
           48.853969,
           2.289652
          ],
          [
           "32, boulevard des Maréchaux",
           "16",
           1,
           2,
           48.866988,
           2.271846
          ],
          [
           "74, rue Mouffetard",
           "5",
           1,
           1,
           48.842585,
           2.349672
          ],
          [
           "4bis, avenue de Choisy",
           "13",
           1,
           2,
           48.820451,
           2.364644
          ],
          [
           "15, rue des Bauches",
           "16",
           1,
           2,
           48.855983,
           2.273553
          ],
          [
           "99, rue des Pyrénées",
           "20",
           1,
           2,
           48.855158,
           2.405215
          ],
          [
           "79, avenue des Gobelins",
           "13",
           1,
           2,
           48.834719,
           2.353257
          ],
          [
           "1, rue Rouvet",
           "19",
           1,
           2,
           48.893086,
           2.385131
          ],
          [
           "1, rue du Général Camou",
           "7",
           1,
           2,
           48.858889,
           2.299853
          ],
          [
           "28, rue du Général Foy",
           "8",
           1,
           2,
           48.878822,
           2.317688
          ],
          [
           "16 rue de Marsoulan",
           "12",
           1,
           1,
           48.846348,
           2.40334
          ],
          [
           "253bis/253 ter, avenue Daumesnil",
           "12",
           1,
           2,
           48.837122,
           2.402889
          ],
          [
           "1, avenue Boutroux",
           "13",
           1,
           2,
           48.822744,
           2.377618
          ],
          [
           "4, rue Jourdain",
           "20",
           1,
           2,
           48.874518,
           2.389605
          ],
          [
           "39 bis, rue Poliveau",
           "5",
           1,
           1,
           48.839807,
           2.357481
          ],
          [
           "42, rue du Javelot",
           "13",
           1,
           2,
           48.824619,
           2.365472
          ],
          [
           "37, avenue de la Bourdonnais",
           "7",
           1,
           2,
           48.85828,
           2.299265
          ],
          [
           "13, rue du Général Guillaumat",
           "15",
           1,
           2,
           48.828027,
           2.29332
          ],
          [
           "3, rue de la  Jussienne",
           "2",
           1,
           2,
           48.865292,
           2.344087
          ],
          [
           "48, boulevard Jourdan",
           "14",
           1,
           2,
           48.822195,
           2.331066
          ],
          [
           "64, rue Chardon Lagache",
           "16",
           1,
           2,
           48.842523,
           2.263925
          ],
          [
           "11, rue d Argenteuil",
           "1",
           1,
           2,
           48.864893,
           2.333822
          ],
          [
           "26, boulevard Bonne Nouvelle",
           "10",
           1,
           2,
           48.870282,
           2.350113
          ],
          [
           "39, rue Alexandre Dumas",
           "11",
           1,
           2,
           48.853745,
           2.393242
          ],
          [
           "14, rue Merlin",
           "11",
           1,
           2,
           48.859847,
           2.38589
          ],
          [
           "9, rue Jean Rey",
           "15",
           1,
           2,
           48.855469,
           2.291002
          ],
          [
           "19, rue Tristant Tzara",
           "18",
           1,
           2,
           48.89502,
           2.363866
          ],
          [
           "12, rue des Amiraux",
           "18",
           1,
           2,
           48.894562,
           2.351348
          ],
          [
           "10, rue Pierre Nicole",
           "5",
           1,
           2,
           48.842291,
           2.34061
          ],
          [
           "130, boulevard de Clichy",
           "9",
           1,
           2,
           48.882984,
           2.334409
          ],
          [
           "39, rue des Trois Bornes",
           "11",
           1,
           2,
           48.867344,
           2.374589
          ],
          [
           "34, boulevard Carnot",
           "12",
           1,
           2,
           48.842109,
           2.41293
          ],
          [
           "97, rue Ballard",
           "15",
           1,
           2,
           48.83755,
           2.2787
          ],
          [
           "221, boulevard Pereire",
           "17",
           1,
           2,
           48.880446,
           2.289361
          ],
          [
           "10, rue Vauquelin",
           "5",
           1,
           2,
           48.841234,
           2.347531
          ],
          [
           "60, rue Saint andré des Arts",
           "6",
           1,
           1,
           48.853577,
           2.339267
          ],
          [
           "15, rue Lancry",
           "10",
           1,
           2,
           48.869561,
           2.360338
          ],
          [
           "8 / 10, rue Balanchine",
           "13",
           1,
           1,
           48.836374,
           2.373575
          ],
          [
           "20, rue Falguieres",
           "15",
           1,
           2,
           48.843104,
           2.316507
          ],
          [
           "40, rue des Pyrénées",
           "20",
           1,
           2,
           48.850917,
           2.406499
          ],
          [
           "60, boulevard Lannes",
           "16",
           1,
           2,
           48.864574,
           2.26978
          ],
          [
           "26, boulevard Bonne Nouvelle",
           "10",
           1,
           2,
           48.870282,
           2.350113
          ],
          [
           "9, rue Tandou",
           "19",
           1,
           2,
           48.886,
           2.37918
          ],
          [
           "28, avenue Rapp",
           "7",
           1,
           2,
           48.858623,
           2.300202
          ],
          [
           "7, rue Duranti",
           "11",
           1,
           2,
           48.86105,
           2.384269
          ],
          [
           "166, rue Pelleport",
           "20",
           1,
           1,
           48.873377,
           2.397987
          ],
          [
           "12, rue Foucroy",
           "17",
           1,
           2,
           48.880462,
           2.296597
          ],
          [
           "31, rue Joseph de Maistre",
           "18",
           1,
           2,
           48.891854,
           2.330619
          ],
          [
           "12-16, rue de la Moselle",
           "19",
           1,
           2,
           48.885108,
           2.37628
          ],
          [
           "7, rue du Jardinet",
           "6",
           1,
           1,
           48.852692,
           2.339941
          ],
          [
           "4bis, rue de la Présentation",
           "11",
           1,
           2,
           48.870885,
           2.377182
          ],
          [
           "84 Rue de la Mare",
           "20",
           1,
           2,
           48.873093,
           2.389293
          ],
          [
           "Place Pinel",
           "13",
           1,
           1,
           48.833497,
           2.361549
          ],
          [
           "12, rue Saint-Benoît",
           "6",
           1,
           1,
           48.855128,
           2.333105
          ],
          [
           "9, rue de Vaugirard",
           "6",
           1,
           1,
           48.848922,
           2.339836
          ],
          [
           "70, avenue Daumesnil",
           "12",
           1,
           2,
           48.844704,
           2.380336
          ],
          [
           "17, rue Sorbier",
           "20",
           1,
           2,
           48.866162,
           2.392419
          ],
          [
           "7, rue Bretonneau",
           "20",
           1,
           2,
           48.86769,
           2.4031700000000003
          ],
          [
           "39, rue Alexandre Dumas",
           "11",
           1,
           2,
           48.853745,
           2.393242
          ],
          [
           "19, rue Boissonnade",
           "14",
           1,
           2,
           48.838886,
           2.332875
          ],
          [
           "2, rue Japy",
           "11",
           1,
           2,
           48.855874,
           2.38245
          ],
          [
           "9, rue Franc Nohain",
           "13",
           1,
           2,
           48.821395,
           2.375173
          ],
          [
           "21/23, avenue de Saint Ouen",
           "17",
           1,
           2,
           48.889046,
           2.325925
          ],
          [
           "38, rue des Orteaux",
           "20",
           1,
           2,
           48.856603,
           2.401315
          ],
          [
           "15, rue de Monceau",
           "8",
           1,
           2,
           48.875864,
           2.307069
          ],
          [
           "107, boulevard Voltaire",
           "11",
           1,
           2,
           48.85859,
           2.379116
          ],
          [
           "6, rue Baptiste Renard",
           "13",
           1,
           2,
           48.828093,
           2.366809
          ],
          [
           "12, rue Saint Benoit",
           "6",
           1,
           2,
           48.855128,
           2.333105
          ],
          [
           "76, boulevard Berthier",
           "17",
           1,
           2,
           48.890553,
           2.304479
          ],
          [
           "31, rue Pierre Semard",
           "9",
           1,
           2,
           48.879105,
           2.348291
          ],
          [
           "46, rue Jenner",
           "13",
           1,
           2,
           48.836123,
           2.360667
          ],
          [
           "14-18, avenue Georges Lafenestre",
           "14",
           1,
           2,
           48.825299,
           2.311657
          ],
          [
           "27, rue Las Casés",
           "7",
           1,
           2,
           48.858981,
           2.31858
          ],
          [
           "39, rue des Cordelières",
           "13",
           1,
           2,
           48.834253,
           2.348657
          ],
          [
           "7, rue Barbanègre",
           "19",
           1,
           2,
           48.892135,
           2.382858
          ],
          [
           "27, rue de Poissy",
           "5",
           1,
           2,
           48.848586,
           2.352272
          ],
          [
           "49, rue Legendre",
           "17",
           1,
           2,
           48.885248,
           2.315958
          ],
          [
           "9, rue Jomard",
           "19",
           1,
           2,
           48.88971,
           2.379576
          ],
          [
           "109, rue des Amandiers",
           "20",
           1,
           2,
           48.867739,
           2.388636
          ],
          [
           "28, rue Cambon",
           "1",
           1,
           2,
           48.868105,
           2.32685
          ],
          [
           "5/7, rue Neuve Saint Pierre",
           "4",
           1,
           2,
           48.853665,
           2.363512
          ],
          [
           "10, rue Paul Baudry",
           "8",
           1,
           2,
           48.87234,
           2.307394
          ],
          [
           "3, rue des Caillaux",
           "13",
           1,
           2,
           48.822875,
           2.362127
          ],
          [
           "20-24, avenue Georges Lafenestre",
           "14",
           1,
           2,
           48.825299,
           2.311657
          ],
          [
           "66, rue Olivier de Serres",
           "15",
           1,
           2,
           48.833817,
           2.294959
          ],
          [
           "1, rue Vauvenargues",
           "18",
           1,
           2,
           48.891898,
           2.33465
          ],
          [
           "5, rue Pierre Bullet",
           "10",
           1,
           2,
           48.871589,
           2.358068
          ],
          [
           "26, avenue du Général Sarail",
           "16",
           1,
           2,
           48.843724,
           2.2549200000000003
          ],
          [
           "11-13, rue Jacques Kellner",
           "17",
           1,
           2,
           48.897262,
           2.32429
          ],
          [
           "103, avenue Gambetta",
           "20",
           1,
           2,
           48.866818,
           2.399962
          ],
          [
           "66/72 avenue Philippe Auguste",
           "11",
           1,
           2,
           48.854201,
           2.392536
          ],
          [
           "6, rue de Cotte",
           "12",
           1,
           2,
           48.849445,
           2.377656
          ],
          [
           "22, boulevard Poissonnière",
           "9",
           1,
           2,
           48.871326,
           2.345109
          ],
          [
           "11, rue Lahire",
           "13",
           1,
           2,
           48.829663,
           2.366395
          ],
          [
           "122-130, rue d Aubervilliers",
           "19",
           1,
           2,
           48.891869,
           2.369341
          ],
          [
           "20 rue de la Brèche aux loups",
           "12",
           1,
           1,
           48.837543,
           2.39417
          ],
          [
           "28, rue andré Brechet",
           "17",
           1,
           2,
           48.898947,
           2.324894
          ],
          [
           "16, rue du Colonel Moll",
           "17",
           1,
           2,
           48.878088,
           2.290012
          ]
         ],
         "hovertemplate": "panel_size=%{marker.size}<br>latitude=%{customdata[4]:.4f}<br>longitude=%{customdata[5]:.4f}<br>location=%{customdata[0]}<br>arrondissement_clean=%{customdata[1]}<br>total_panels=%{customdata[2]}<br>total_area=%{marker.color}<extra></extra>",
         "lat": {
          "bdata": "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",
          "dtype": "f8"
         },
         "legendgroup": "",
         "lon": {
          "bdata": "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",
          "dtype": "f8"
         },
         "marker": {
          "color": {
           "bdata": "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",
           "dtype": "f8"
          },
          "coloraxis": "coloraxis",
          "size": {
           "bdata": "AAAAAAAAJEAAAAAAAAAkQAAAAAAAACRAAAAAAAAAJEAAAAAAAAAkQAAAAAAAACRAAAAAAAAAJEAAAAAAAAAkQAAAAAAAACRAAAAAAAAAJEAAAAAAAAAkQAAAAAAAACRAAAAAAAAAJEAAAAAAAAAkQAAAAAAAACRAAAAAAAAAJEAAAAAAAAAkQAAAAAAAACRAAAAAAAAAJEAAAAAAAAAkQAAAAAAAACRAAAAAAAAAJEAAAAAAAAAkQAAAAAAAACRAAAAAAAAAJEAAAAAAAAAkQAAAAAAAACRAAAAAAAAAJEAAAAAAAAAkQAAAAAAAACRAAAAAAAAAJEAAAAAAAAAkQAAAAAAAACRAAAAAAAAAJEAAAAAAAAAkQAAAAAAAACRAAAAAAAAAJEAAAAAAAAAkQAAAAAAAACRAAAAAAAAAJEAAAAAAAAAkQAAAAAAAACRAAAAAAAAAJEAAAAAAAAAkQAAAAAAAACRAAAAAAAAAJEAAAAAAAAAkQAAAAAAAACRAAAAAAAAAJEAAAAAAAAAkQAAAAAAAACRAAAAAAAAAJEAAAAAAAAAkQAAAAAAAACRAAAAAAAAAJEAAAAAAAAAkQAAAAAAAACRAAAAAAAAAJEAAAAAAAAAkQAAAAAAAACRAAAAAAAAAJEAAAAAAAAAkQAAAAAAAACRAAAAAAAAAJEAAAAAAAAAkQAAAAAAAACRAAAAAAAAAJEAAAAAAAAAkQAAAAAAAACRAAAAAAAAAJEAAAAAAAAAkQAAAAAAAACRAAAAAAAAAJEAAAAAAAAAkQAAAAAAAACRAAAAAAAAAJEAAAAAAAAAkQAAAAAAAACRAAAAAAAAAJEAAAAAAAAAkQAAAAAAAACRAAAAAAAAAJEAAAAAAAAAkQAAAAAAAACRAAAAAAAAAJEAAAAAAAAAkQAAAAAAAACRAAAAAAAAAJEAAAAAAAAAkQAAAAAAAACRAAAAAAAAAJEAAAAAAAAAkQAAAAAAAACRAAAAAAAAAJEAAAAAAAAAkQAAAAAAAACRAAAAAAAAAJEAAAAAAAAAkQAAAAAAAACRAAAAAAAAAJEAAAAAAAAAkQAAAAAAAACRAAAAAAAAAJEAAAAAAAAAkQAAAAAAAACRAAAAAAAAAJEAAAAAAAAAkQAAAAAAAACRAAAAAAAAAJEAAAAAAAAAkQAAAAAAAACRAAAAAAAAAJEAAAAAAAAAkQAAAAAAAACRAAAAAAAAAJEAAAAAAAAAkQAAAAAAAACRAAAAAAAAAJEAAAAAAAAAkQAAAAAAAACRAAAAAAAAAJEAAAAAAAAAkQAAAAAAAACRAAAAAAAAAJEAAAAAAAAAkQAAAAAAAACRAAAAAAAAAJEAAAAAAAAAkQAAAAAAAACRAAAAAAAAAJEAAAAAAAAAkQAAAAAAAACRAAAAAAAAAJEAAAAAAAAAkQAAAAAAAACRAAAAAAAAAJEAAAAAAAAAkQAAAAAAAACRAAAAAAAAAJEAAAAAAAAAkQAAAAAAAACRAAAAAAAAAJEAAAAAAAAAkQAAAAAAAACRAAAAAAAAAJEAAAAAAAAAkQAAAAAAAACRAAAAAAAAAJEAAAAAAAAAkQAAAAAAAACRAAAAAAAAAJEAAAAAAAAAkQAAAAAAAACRAAAAAAAAAJEAAAAAAAAAkQAAAAAAAACRAAAAAAAAAJEAAAAAAAAAkQAAAAAAAACRAAAAAAAAAJEAAAAAAAAAkQAAAAAAAACRAAAAAAAAAJEAAAAAAAAAkQAAAAAAAACRAAAAAAAAAJEAAAAAAAAAkQAAAAAAAACRAAAAAAAAAJEAAAAAAAAAkQAAAAAAAACRAAAAAAAAAJEAAAAAAAAAkQAAAAAAAACRAAAAAAAAAJEAAAAAAAAAkQAAAAAAAACRAAAAAAAAAJEAAAAAAAAAkQAAAAAAAACRAAAAAAAAAJEAAAAAAAAAkQAAAAAAAACRAAAAAAAAAJEAAAAAAAAAkQAAAAAAAACRAAAAAAAAAJEAAAAAAAAAkQAAAAAAAACRAAAAAAAAAJEAAAAAAAAAkQAAAAAAAACRAAAAAAAAAJEAAAAAAAAAkQAAAAAAAACRAAAAAAAAAJEAAAAAAAAAkQAAAAAAAACRAAAAAAAAAJEAAAAAAAAAkQAAAAAAAACRAAAAAAAAAJEAAAAAAAAAkQAAAAAAAACRAAAAAAAAAJEAAAAAAAAAkQAAAAAAAACRAAAAAAAAAJEAAAAAAAAAkQAAAAAAAACRAAAAAAAAAJEAAAAAAAAAkQAAAAAAAACRAAAAAAAAAJEAAAAAAAAAkQAAAAAAAACRAAAAAAAAAJEAAAAAAAAAkQAAAAAAAACRAAAAAAAAAJEAAAAAAAAAkQAAAAAAAACRAAAAAAAAAJEAAAAAAAAAkQAAAAAAAACRAAAAAAAAAJEAAAAAAAAAkQAAAAAAAACRAAAAAAAAAJEAAAAAAAAAkQAAAAAAAACRAAAAAAAAAJEAAAAAAAAAkQAAAAAAAACRAAAAAAAAAJEAAAAAAAAAkQAAAAAAAACRAAAAAAAAAJEAAAAAAAAAkQAAAAAAAACRAAAAAAAAAJEAAAAAAAAAkQAAAAAAAACRAAAAAAAAAJEAAAAAAAAAkQAAAAAAAACRAAAAAAAAAJEAAAAAAAAAkQAAAAAAAACRAAAAAAAAAJEAAAAAAAAAkQAAAAAAAACRAAAAAAAAAJEAAAAAAAAAkQAAAAAAAACRAAAAAAAAAJEAAAAAAAAAkQAAAAAAAACRAAAAAAAAAJEAAAAAAAAAkQAAAAAAAACRAAAAAAAAAJEAAAAAAAAAkQAAAAAAAACRAAAAAAAAAJEAAAAAAAAAkQAAAAAAAACRAAAAAAAAAJEAAAAAAAAAkQAAAAAAAACRAAAAAAAAAJEAAAAAAAAAkQAAAAAAAACRAAAAAAAAAJEAAAAAAAAAkQAAAAAAAACRAAAAAAAAAJEAAAAAAAAAkQAAAAAAAACRAAAAAAAAAJEAAAAAAAAAkQAAAAAAAACRAAAAAAAAAJEAAAAAAAAAkQAAAAAAAACRA",
           "dtype": "f8"
          },
          "sizemode": "area",
          "sizeref": 0.025
         },
         "mode": "markers",
         "name": "",
         "showlegend": false,
         "subplot": "mapbox",
         "type": "scattermapbox"
        }
       ],
       "layout": {
        "coloraxis": {
         "colorbar": {
          "title": {
           "text": "total_area"
          }
         },
         "colorscale": [
          [
           0,
           "#440154"
          ],
          [
           0.1111111111111111,
           "#482878"
          ],
          [
           0.2222222222222222,
           "#3e4989"
          ],
          [
           0.3333333333333333,
           "#31688e"
          ],
          [
           0.4444444444444444,
           "#26828e"
          ],
          [
           0.5555555555555556,
           "#1f9e89"
          ],
          [
           0.6666666666666666,
           "#35b779"
          ],
          [
           0.7777777777777778,
           "#6ece58"
          ],
          [
           0.8888888888888888,
           "#b5de2b"
          ],
          [
           1,
           "#fde725"
          ]
         ]
        },
        "height": 700,
        "legend": {
         "itemsizing": "constant",
         "tracegroupgap": 0
        },
        "mapbox": {
         "center": {
          "lat": 48.85980015438597,
          "lon": 2.353598459649123
         },
         "domain": {
          "x": [
           0,
           1
          ],
          "y": [
           0,
           1
          ]
         },
         "style": "open-street-map",
         "zoom": 11
        },
        "template": {
         "data": {
          "bar": [
           {
            "error_x": {
             "color": "#2a3f5f"
            },
            "error_y": {
             "color": "#2a3f5f"
            },
            "marker": {
             "line": {
              "color": "#E5ECF6",
              "width": 0.5
             },
             "pattern": {
              "fillmode": "overlay",
              "size": 10,
              "solidity": 0.2
             }
            },
            "type": "bar"
           }
          ],
          "barpolar": [
           {
            "marker": {
             "line": {
              "color": "#E5ECF6",
              "width": 0.5
             },
             "pattern": {
              "fillmode": "overlay",
              "size": 10,
              "solidity": 0.2
             }
            },
            "type": "barpolar"
           }
          ],
          "carpet": [
           {
            "aaxis": {
             "endlinecolor": "#2a3f5f",
             "gridcolor": "white",
             "linecolor": "white",
             "minorgridcolor": "white",
             "startlinecolor": "#2a3f5f"
            },
            "baxis": {
             "endlinecolor": "#2a3f5f",
             "gridcolor": "white",
             "linecolor": "white",
             "minorgridcolor": "white",
             "startlinecolor": "#2a3f5f"
            },
            "type": "carpet"
           }
          ],
          "choropleth": [
           {
            "colorbar": {
             "outlinewidth": 0,
             "ticks": ""
            },
            "type": "choropleth"
           }
          ],
          "contour": [
           {
            "colorbar": {
             "outlinewidth": 0,
             "ticks": ""
            },
            "colorscale": [
             [
              0,
              "#0d0887"
             ],
             [
              0.1111111111111111,
              "#46039f"
             ],
             [
              0.2222222222222222,
              "#7201a8"
             ],
             [
              0.3333333333333333,
              "#9c179e"
             ],
             [
              0.4444444444444444,
              "#bd3786"
             ],
             [
              0.5555555555555556,
              "#d8576b"
             ],
             [
              0.6666666666666666,
              "#ed7953"
             ],
             [
              0.7777777777777778,
              "#fb9f3a"
             ],
             [
              0.8888888888888888,
              "#fdca26"
             ],
             [
              1,
              "#f0f921"
             ]
            ],
            "type": "contour"
           }
          ],
          "contourcarpet": [
           {
            "colorbar": {
             "outlinewidth": 0,
             "ticks": ""
            },
            "type": "contourcarpet"
           }
          ],
          "heatmap": [
           {
            "colorbar": {
             "outlinewidth": 0,
             "ticks": ""
            },
            "colorscale": [
             [
              0,
              "#0d0887"
             ],
             [
              0.1111111111111111,
              "#46039f"
             ],
             [
              0.2222222222222222,
              "#7201a8"
             ],
             [
              0.3333333333333333,
              "#9c179e"
             ],
             [
              0.4444444444444444,
              "#bd3786"
             ],
             [
              0.5555555555555556,
              "#d8576b"
             ],
             [
              0.6666666666666666,
              "#ed7953"
             ],
             [
              0.7777777777777778,
              "#fb9f3a"
             ],
             [
              0.8888888888888888,
              "#fdca26"
             ],
             [
              1,
              "#f0f921"
             ]
            ],
            "type": "heatmap"
           }
          ],
          "histogram": [
           {
            "marker": {
             "pattern": {
              "fillmode": "overlay",
              "size": 10,
              "solidity": 0.2
             }
            },
            "type": "histogram"
           }
          ],
          "histogram2d": [
           {
            "colorbar": {
             "outlinewidth": 0,
             "ticks": ""
            },
            "colorscale": [
             [
              0,
              "#0d0887"
             ],
             [
              0.1111111111111111,
              "#46039f"
             ],
             [
              0.2222222222222222,
              "#7201a8"
             ],
             [
              0.3333333333333333,
              "#9c179e"
             ],
             [
              0.4444444444444444,
              "#bd3786"
             ],
             [
              0.5555555555555556,
              "#d8576b"
             ],
             [
              0.6666666666666666,
              "#ed7953"
             ],
             [
              0.7777777777777778,
              "#fb9f3a"
             ],
             [
              0.8888888888888888,
              "#fdca26"
             ],
             [
              1,
              "#f0f921"
             ]
            ],
            "type": "histogram2d"
           }
          ],
          "histogram2dcontour": [
           {
            "colorbar": {
             "outlinewidth": 0,
             "ticks": ""
            },
            "colorscale": [
             [
              0,
              "#0d0887"
             ],
             [
              0.1111111111111111,
              "#46039f"
             ],
             [
              0.2222222222222222,
              "#7201a8"
             ],
             [
              0.3333333333333333,
              "#9c179e"
             ],
             [
              0.4444444444444444,
              "#bd3786"
             ],
             [
              0.5555555555555556,
              "#d8576b"
             ],
             [
              0.6666666666666666,
              "#ed7953"
             ],
             [
              0.7777777777777778,
              "#fb9f3a"
             ],
             [
              0.8888888888888888,
              "#fdca26"
             ],
             [
              1,
              "#f0f921"
             ]
            ],
            "type": "histogram2dcontour"
           }
          ],
          "mesh3d": [
           {
            "colorbar": {
             "outlinewidth": 0,
             "ticks": ""
            },
            "type": "mesh3d"
           }
          ],
          "parcoords": [
           {
            "line": {
             "colorbar": {
              "outlinewidth": 0,
              "ticks": ""
             }
            },
            "type": "parcoords"
           }
          ],
          "pie": [
           {
            "automargin": true,
            "type": "pie"
           }
          ],
          "scatter": [
           {
            "fillpattern": {
             "fillmode": "overlay",
             "size": 10,
             "solidity": 0.2
            },
            "type": "scatter"
           }
          ],
          "scatter3d": [
           {
            "line": {
             "colorbar": {
              "outlinewidth": 0,
              "ticks": ""
             }
            },
            "marker": {
             "colorbar": {
              "outlinewidth": 0,
              "ticks": ""
             }
            },
            "type": "scatter3d"
           }
          ],
          "scattercarpet": [
           {
            "marker": {
             "colorbar": {
              "outlinewidth": 0,
              "ticks": ""
             }
            },
            "type": "scattercarpet"
           }
          ],
          "scattergeo": [
           {
            "marker": {
             "colorbar": {
              "outlinewidth": 0,
              "ticks": ""
             }
            },
            "type": "scattergeo"
           }
          ],
          "scattergl": [
           {
            "marker": {
             "colorbar": {
              "outlinewidth": 0,
              "ticks": ""
             }
            },
            "type": "scattergl"
           }
          ],
          "scattermap": [
           {
            "marker": {
             "colorbar": {
              "outlinewidth": 0,
              "ticks": ""
             }
            },
            "type": "scattermap"
           }
          ],
          "scattermapbox": [
           {
            "marker": {
             "colorbar": {
              "outlinewidth": 0,
              "ticks": ""
             }
            },
            "type": "scattermapbox"
           }
          ],
          "scatterpolar": [
           {
            "marker": {
             "colorbar": {
              "outlinewidth": 0,
              "ticks": ""
             }
            },
            "type": "scatterpolar"
           }
          ],
          "scatterpolargl": [
           {
            "marker": {
             "colorbar": {
              "outlinewidth": 0,
              "ticks": ""
             }
            },
            "type": "scatterpolargl"
           }
          ],
          "scatterternary": [
           {
            "marker": {
             "colorbar": {
              "outlinewidth": 0,
              "ticks": ""
             }
            },
            "type": "scatterternary"
           }
          ],
          "surface": [
           {
            "colorbar": {
             "outlinewidth": 0,
             "ticks": ""
            },
            "colorscale": [
             [
              0,
              "#0d0887"
             ],
             [
              0.1111111111111111,
              "#46039f"
             ],
             [
              0.2222222222222222,
              "#7201a8"
             ],
             [
              0.3333333333333333,
              "#9c179e"
             ],
             [
              0.4444444444444444,
              "#bd3786"
             ],
             [
              0.5555555555555556,
              "#d8576b"
             ],
             [
              0.6666666666666666,
              "#ed7953"
             ],
             [
              0.7777777777777778,
              "#fb9f3a"
             ],
             [
              0.8888888888888888,
              "#fdca26"
             ],
             [
              1,
              "#f0f921"
             ]
            ],
            "type": "surface"
           }
          ],
          "table": [
           {
            "cells": {
             "fill": {
              "color": "#EBF0F8"
             },
             "line": {
              "color": "white"
             }
            },
            "header": {
             "fill": {
              "color": "#C8D4E3"
             },
             "line": {
              "color": "white"
             }
            },
            "type": "table"
           }
          ]
         },
         "layout": {
          "annotationdefaults": {
           "arrowcolor": "#2a3f5f",
           "arrowhead": 0,
           "arrowwidth": 1
          },
          "autotypenumbers": "strict",
          "coloraxis": {
           "colorbar": {
            "outlinewidth": 0,
            "ticks": ""
           }
          },
          "colorscale": {
           "diverging": [
            [
             0,
             "#8e0152"
            ],
            [
             0.1,
             "#c51b7d"
            ],
            [
             0.2,
             "#de77ae"
            ],
            [
             0.3,
             "#f1b6da"
            ],
            [
             0.4,
             "#fde0ef"
            ],
            [
             0.5,
             "#f7f7f7"
            ],
            [
             0.6,
             "#e6f5d0"
            ],
            [
             0.7,
             "#b8e186"
            ],
            [
             0.8,
             "#7fbc41"
            ],
            [
             0.9,
             "#4d9221"
            ],
            [
             1,
             "#276419"
            ]
           ],
           "sequential": [
            [
             0,
             "#0d0887"
            ],
            [
             0.1111111111111111,
             "#46039f"
            ],
            [
             0.2222222222222222,
             "#7201a8"
            ],
            [
             0.3333333333333333,
             "#9c179e"
            ],
            [
             0.4444444444444444,
             "#bd3786"
            ],
            [
             0.5555555555555556,
             "#d8576b"
            ],
            [
             0.6666666666666666,
             "#ed7953"
            ],
            [
             0.7777777777777778,
             "#fb9f3a"
            ],
            [
             0.8888888888888888,
             "#fdca26"
            ],
            [
             1,
             "#f0f921"
            ]
           ],
           "sequentialminus": [
            [
             0,
             "#0d0887"
            ],
            [
             0.1111111111111111,
             "#46039f"
            ],
            [
             0.2222222222222222,
             "#7201a8"
            ],
            [
             0.3333333333333333,
             "#9c179e"
            ],
            [
             0.4444444444444444,
             "#bd3786"
            ],
            [
             0.5555555555555556,
             "#d8576b"
            ],
            [
             0.6666666666666666,
             "#ed7953"
            ],
            [
             0.7777777777777778,
             "#fb9f3a"
            ],
            [
             0.8888888888888888,
             "#fdca26"
            ],
            [
             1,
             "#f0f921"
            ]
           ]
          },
          "colorway": [
           "#636efa",
           "#EF553B",
           "#00cc96",
           "#ab63fa",
           "#FFA15A",
           "#19d3f3",
           "#FF6692",
           "#B6E880",
           "#FF97FF",
           "#FECB52"
          ],
          "font": {
           "color": "#2a3f5f"
          },
          "geo": {
           "bgcolor": "white",
           "lakecolor": "white",
           "landcolor": "#E5ECF6",
           "showlakes": true,
           "showland": true,
           "subunitcolor": "white"
          },
          "hoverlabel": {
           "align": "left"
          },
          "hovermode": "closest",
          "mapbox": {
           "style": "light"
          },
          "paper_bgcolor": "white",
          "plot_bgcolor": "#E5ECF6",
          "polar": {
           "angularaxis": {
            "gridcolor": "white",
            "linecolor": "white",
            "ticks": ""
           },
           "bgcolor": "#E5ECF6",
           "radialaxis": {
            "gridcolor": "white",
            "linecolor": "white",
            "ticks": ""
           }
          },
          "scene": {
           "xaxis": {
            "backgroundcolor": "#E5ECF6",
            "gridcolor": "white",
            "gridwidth": 2,
            "linecolor": "white",
            "showbackground": true,
            "ticks": "",
            "zerolinecolor": "white"
           },
           "yaxis": {
            "backgroundcolor": "#E5ECF6",
            "gridcolor": "white",
            "gridwidth": 2,
            "linecolor": "white",
            "showbackground": true,
            "ticks": "",
            "zerolinecolor": "white"
           },
           "zaxis": {
            "backgroundcolor": "#E5ECF6",
            "gridcolor": "white",
            "gridwidth": 2,
            "linecolor": "white",
            "showbackground": true,
            "ticks": "",
            "zerolinecolor": "white"
           }
          },
          "shapedefaults": {
           "line": {
            "color": "#2a3f5f"
           }
          },
          "ternary": {
           "aaxis": {
            "gridcolor": "white",
            "linecolor": "white",
            "ticks": ""
           },
           "baxis": {
            "gridcolor": "white",
            "linecolor": "white",
            "ticks": ""
           },
           "bgcolor": "#E5ECF6",
           "caxis": {
            "gridcolor": "white",
            "linecolor": "white",
            "ticks": ""
           }
          },
          "title": {
           "x": 0.05
          },
          "xaxis": {
           "automargin": true,
           "gridcolor": "white",
           "linecolor": "white",
           "ticks": "",
           "title": {
            "standoff": 15
           },
           "zerolinecolor": "white",
           "zerolinewidth": 2
          },
          "yaxis": {
           "automargin": true,
           "gridcolor": "white",
           "linecolor": "white",
           "ticks": "",
           "title": {
            "standoff": 15
           },
           "zerolinecolor": "white",
           "zerolinewidth": 2
          }
         }
        },
        "title": {
         "font": {
          "size": 16
         },
         "text": "Advertising Panel Geographic Distribution Across Paris",
         "x": 0.5
        },
        "width": 1000
       }
      }
     },
     "metadata": {},
     "output_type": "display_data"
    },
    {
     "name": "stdout",
     "output_type": "stream",
     "text": [
      "Interactive map displaying 285 panel locations\n",
      "Bubble size = Number of panels | Color intensity = Total area (m²)\n",
      "Geographic spread: 20 arrondissements\n"
     ]
    }
   ],
   "source": [
    "if len(valid_coords) > 0:\n",
    "    map_data = valid_coords.copy()\n",
    "    map_data['panel_size'] = map_data['total_panels'] * 2 + 8\n",
    "    \n",
    "    fig = px.scatter_mapbox(\n",
    "        map_data,\n",
    "        lat='latitude',\n",
    "        lon='longitude',\n",
    "        size='panel_size',\n",
    "        color='total_area',\n",
    "        hover_data={\n",
    "            'location': True,\n",
    "            'arrondissement_clean': True,\n",
    "            'total_panels': True,\n",
    "            'total_area': True,\n",
    "            'latitude': ':.4f',\n",
    "            'longitude': ':.4f'\n",
    "        },\n",
    "        color_continuous_scale='Viridis',\n",
    "        title='Advertising Panel Geographic Distribution Across Paris',\n",
    "        zoom=11,\n",
    "        height=700,\n",
    "        width=1000\n",
    "    )\n",
    "    \n",
    "    fig.update_layout(\n",
    "        mapbox_style=\"open-street-map\",\n",
    "        title_font_size=16,\n",
    "        title_x=0.5\n",
    "    )\n",
    "    \n",
    "    fig.show()\n",
    "    \n",
    "    print(f\"Interactive map displaying {len(map_data)} panel locations\")\n",
    "    print(\"Bubble size = Number of panels | Color intensity = Total area (m²)\")\n",
    "    print(f\"Geographic spread: {map_data['arrondissement_clean'].nunique()} arrondissements\")"
   ]
  },
  {
   "cell_type": "code",
   "execution_count": 42,
   "metadata": {},
   "outputs": [
    {
     "data": {
      "image/png": "[encoded data removed]",
      "text/plain": [
       "<Figure size 1500x1000 with 4 Axes>"
      ]
     },
     "metadata": {},
     "output_type": "display_data"
    },
    {
     "name": "stdout",
     "output_type": "stream",
     "text": [
      "STATISTICAL SUMMARY\n",
      "==============================\n",
      "Panel count statistics:\n",
      "  Mean: 14.3\n",
      "  Median: 12.5\n",
      "  Std Dev: 9.7\n",
      "  Range: 2.0-35.0\n",
      "\n",
      "Density statistics:\n",
      "  Mean: 3.29 panels/km²\n",
      "  Median: 3.26 panels/km²\n",
      "  Range: 1.46-5.95\n"
     ]
    }
   ],
   "source": [
    "fig, axes = plt.subplots(2, 2, figsize=(15, 10))\n",
    "\n",
    "# 1. Distribution of panel counts\n",
    "axes[0,0].hist(panel_analysis['total_panels'], bins=12, alpha=0.7, color='skyblue', edgecolor='black')\n",
    "axes[0,0].axvline(panel_analysis['total_panels'].mean(), color='red', linestyle='--', \n",
    "                 label=f'Mean: {panel_analysis[\"total_panels\"].mean():.1f}')\n",
    "axes[0,0].axvline(panel_analysis['total_panels'].median(), color='green', linestyle='--', \n",
    "                 label=f'Median: {panel_analysis[\"total_panels\"].median():.1f}')\n",
    "axes[0,0].set_title('Distribution of Panel Counts', fontweight='bold')\n",
    "axes[0,0].set_xlabel('Panels per Arrondissement')\n",
    "axes[0,0].set_ylabel('Frequency')\n",
    "axes[0,0].legend()\n",
    "\n",
    "# 2. Panel density distribution\n",
    "axes[0,1].hist(panel_analysis['panel_density'], bins=12, alpha=0.7, color='lightgreen', edgecolor='black')\n",
    "axes[0,1].axvline(panel_analysis['panel_density'].mean(), color='red', linestyle='--', \n",
    "                 label=f'Mean: {panel_analysis[\"panel_density\"].mean():.2f}')\n",
    "axes[0,1].set_title('Distribution of Panel Density', fontweight='bold')\n",
    "axes[0,1].set_xlabel('Panels per km²')\n",
    "axes[0,1].set_ylabel('Frequency')\n",
    "axes[0,1].legend()\n",
    "\n",
    "# 3. Area vs arrondissement size correlation\n",
    "axes[1,0].scatter(panel_analysis['area_km2'], panel_analysis['total_panels'], \n",
    "                 s=100, alpha=0.7, c=panel_analysis['infrastructure_score'], cmap='plasma')\n",
    "axes[1,0].set_title('Geographic Area vs Panel Count', fontweight='bold')\n",
    "axes[1,0].set_xlabel('Arrondissement Area (km²)')\n",
    "axes[1,0].set_ylabel('Total Panels')\n",
    "\n",
    "# Add trendline\n",
    "z = np.polyfit(panel_analysis['area_km2'], panel_analysis['total_panels'], 1)\n",
    "p = np.poly1d(z)\n",
    "axes[1,0].plot(panel_analysis['area_km2'], p(panel_analysis['area_km2']), \"r--\", alpha=0.8)\n",
    "\n",
    "# 4. Top vs bottom performers comparison\n",
    "top_5 = panel_analysis.head(5)['arrondissement_clean'].tolist()\n",
    "bottom_5 = panel_analysis.tail(5)['arrondissement_clean'].tolist()\n",
    "\n",
    "top_data = panel_analysis[panel_analysis['arrondissement_clean'].isin(top_5)]['total_panels']\n",
    "bottom_data = panel_analysis[panel_analysis['arrondissement_clean'].isin(bottom_5)]['total_panels']\n",
    "\n",
    "axes[1,1].boxplot([top_data, bottom_data], labels=['Top 5', 'Bottom 5'])\n",
    "axes[1,1].set_title('Top vs Bottom Performers', fontweight='bold')\n",
    "axes[1,1].set_ylabel('Panel Count')\n",
    "\n",
    "plt.tight_layout()\n",
    "plt.show()\n",
    "\n",
    "# Print statistical summary\n",
    "print(\"STATISTICAL SUMMARY\")\n",
    "print(\"=\" * 30)\n",
    "print(f\"Panel count statistics:\")\n",
    "print(f\"  Mean: {panel_analysis['total_panels'].mean():.1f}\")\n",
    "print(f\"  Median: {panel_analysis['total_panels'].median():.1f}\")\n",
    "print(f\"  Std Dev: {panel_analysis['total_panels'].std():.1f}\")\n",
    "print(f\"  Range: {panel_analysis['total_panels'].min()}-{panel_analysis['total_panels'].max()}\")\n",
    "\n",
    "print(f\"\\nDensity statistics:\")\n",
    "print(f\"  Mean: {panel_analysis['panel_density'].mean():.2f} panels/km²\")\n",
    "print(f\"  Median: {panel_analysis['panel_density'].median():.2f} panels/km²\")\n",
    "print(f\"  Range: {panel_analysis['panel_density'].min():.2f}-{panel_analysis['panel_density'].max():.2f}\")"
   ]
  },
  {
   "cell_type": "code",
   "execution_count": 43,
   "metadata": {},
   "outputs": [
    {
     "name": "stdout",
     "output_type": "stream",
     "text": [
      "ASSOCIATIVE PANEL INFRASTRUCTURE INTELLIGENCE\n",
      "============================================================\n",
      "KEY METRICS:\n",
      "  Total associative panels: 287\n",
      "  Total civic panel area: 533 m²\n",
      "  Geographic coverage: 20/20 arrondissements (100%)\n",
      "  Average panels per arrondissement: 14.3\n",
      "  Coordinate precision: 99.3%\n",
      "\n",
      "CIVIC INFRASTRUCTURE LEADERS:\n",
      "  1. Arr. 19: 33 panels, 66 m², 4.85/km²\n",
      "  2. Arr. 20: 35 panels, 61 m², 5.83/km²\n",
      "  3. Arr. 13: 26 panels, 49 m², 3.66/km²\n",
      "  4. Arr. 11: 22 panels, 44 m², 5.95/km²\n",
      "  5. Arr. 18: 20 panels, 40 m², 3.33/km²\n",
      "\n",
      "FORMAT STRATEGY:\n",
      "  Large panel focus: 246 × 2m² panels (85.7%)\n",
      "  Small panel complement: 41 × 1m² panels (14.3%)\n",
      "  Civic approach: Quality over quantity\n",
      "\n",
      "MARKETING INTELLIGENCE INSIGHTS:\n",
      "  High civic density areas: 10 arrondissements\n",
      "  Established infrastructure zones: 19, 20, 13, 11, 18, 12, 10, 6, 5, 4\n",
      "  Density range: 1.46 - 5.95 panels/km²\n",
      "\n",
      "COMMERCIAL PLACEMENT STRATEGY:\n",
      "  Areas with proven civic engagement: 9 arrondissements\n",
      "  Top civic infrastructure zones: 19, 20, 13\n",
      "  Commercial opportunity: Use civic patterns to inform advertising placement\n",
      "\n",
      "READY FOR MARKETING CORRELATION:\n",
      "  Clean civic dataset: 287 validated records\n",
      "  Complete geographic coverage for marketing analysis\n",
      "  Civic infrastructure patterns ready for commercial placement strategy\n"
     ]
    }
   ],
   "source": [
    "print(\"ASSOCIATIVE PANEL INFRASTRUCTURE INTELLIGENCE\")\n",
    "print(\"=\" * 60)\n",
    "\n",
    "print(\"KEY METRICS:\")\n",
    "print(f\"  Total associative panels: {int(panels_valid['total_panels'].sum())}\")\n",
    "print(f\"  Total civic panel area: {int(panels_valid['total_area'].sum())} m²\")\n",
    "print(f\"  Geographic coverage: {len(panel_analysis)}/20 arrondissements (100%)\")\n",
    "print(f\"  Average panels per arrondissement: {panels_valid['total_panels'].sum()/len(panel_analysis):.1f}\")\n",
    "print(f\"  Coordinate precision: {len(valid_coords)/len(panels_valid)*100:.1f}%\")\n",
    "\n",
    "print(f\"\\nCIVIC INFRASTRUCTURE LEADERS:\")\n",
    "for i, (_, row) in enumerate(panel_analysis.head(5).iterrows(), 1):\n",
    "    print(f\"  {i}. Arr. {row['arrondissement_clean']}: {row['total_panels']:.0f} panels, {row['total_area']:.0f} m², {row['panel_density']:.2f}/km²\")\n",
    "\n",
    "print(f\"\\nFORMAT STRATEGY:\")\n",
    "total_1m2 = int(panels_valid['format_1m2'].sum())\n",
    "total_2m2 = int(panels_valid['format_2m2'].sum())\n",
    "print(f\"  Large panel focus: {total_2m2} × 2m² panels ({total_2m2/(total_1m2+total_2m2)*100:.1f}%)\")\n",
    "print(f\"  Small panel complement: {total_1m2} × 1m² panels ({total_1m2/(total_1m2+total_2m2)*100:.1f}%)\")\n",
    "print(f\"  Civic approach: Quality over quantity\")\n",
    "\n",
    "print(f\"\\nMARKETING INTELLIGENCE INSIGHTS:\")\n",
    "high_density = panel_analysis[panel_analysis['panel_density'] > panel_analysis['panel_density'].mean()]\n",
    "print(f\"  High civic density areas: {len(high_density)} arrondissements\")\n",
    "print(f\"  Established infrastructure zones: {', '.join(high_density['arrondissement_clean'].tolist())}\")\n",
    "print(f\"  Density range: {panel_analysis['panel_density'].min():.2f} - {panel_analysis['panel_density'].max():.2f} panels/km²\")\n",
    "\n",
    "print(f\"\\nCOMMERCIAL PLACEMENT STRATEGY:\")\n",
    "efficient_areas = panel_analysis[panel_analysis['infrastructure_score'] > panel_analysis['infrastructure_score'].mean()]\n",
    "print(f\"  Areas with proven civic engagement: {len(efficient_areas)} arrondissements\")\n",
    "print(f\"  Top civic infrastructure zones: {', '.join(efficient_areas.head(3)['arrondissement_clean'].tolist())}\")\n",
    "print(f\"  Commercial opportunity: Use civic patterns to inform advertising placement\")\n",
    "\n",
    "print(f\"\\nREADY FOR MARKETING CORRELATION:\")\n",
    "print(f\"  Clean civic dataset: 287 validated records\")\n",
    "print(f\"  Complete geographic coverage for marketing analysis\")\n",
    "print(f\"  Civic infrastructure patterns ready for commercial placement strategy\")"
   ]
  },
  {
   "cell_type": "code",
   "execution_count": 44,
   "metadata": {},
   "outputs": [
    {
     "name": "stdout",
     "output_type": "stream",
     "text": [
      "\n",
      "panels analysis complete!\n"
     ]
    }
   ],
   "source": [
    "# Export processed datasets\n",
    "panels_valid.to_csv('../data/processed/panels_processed.csv', index=False)\n",
    "panel_analysis.to_csv('../data/processed/panel_infrastructure_analysis.csv', index=False)\n",
    "valid_coords.to_csv('../data/processed/panel_locations_with_coordinates.csv', index=False)\n",
    "\n",
    "panel_summary = {\n",
    "    'dataset_info': {\n",
    "        'total_records': len(panels_valid),\n",
    "        'coordinate_coverage': len(valid_coords),\n",
    "        'arrondissements_covered': len(panel_analysis),\n",
    "        'data_quality_score': len(valid_coords)/len(panels_valid)*100\n",
    "    },\n",
    "    'civic_infrastructure_metrics': {\n",
    "        'total_associative_panels': int(panels_valid['total_panels'].sum()),\n",
    "        'total_area_m2': int(panels_valid['total_area'].sum()),\n",
    "        'format_1m2_count': int(panels_valid['format_1m2'].sum()),\n",
    "        'format_2m2_count': int(panels_valid['format_2m2'].sum()),\n",
    "        'avg_panels_per_arrondissement': float(panels_valid['total_panels'].sum()/len(panel_analysis))\n",
    "    },\n",
    "    'marketing_intelligence': {\n",
    "        'civic_infrastructure_leaders': panel_analysis.head(5)[['arrondissement_clean', 'total_panels', 'infrastructure_score']].to_dict('records'),\n",
    "        'high_density_areas': panel_analysis.nlargest(5, 'panel_density')[['arrondissement_clean', 'panel_density']].to_dict('records'),\n",
    "        'commercial_placement_insights': 'Areas with high civic engagement may indicate good commercial potential'\n",
    "    }\n",
    "}\n",
    "\n",
    "with open('../data/summaries/associative_panels_summary.json', 'w') as f:\n",
    "    json.dump(panel_summary, f, indent=2, default=str)\n",
    "\n",
    "print(\"\\npanels analysis complete!\")"
   ]
  }
 ],
 "metadata": {
  "kernelspec": {
   "display_name": "Python 3",
   "language": "python",
   "name": "python3"
  },
  "language_info": {
   "codemirror_mode": {
    "name": "ipython",
    "version": 3
   },
   "file_extension": ".py",
   "mimetype": "text/x-python",
   "name": "python",
   "nbconvert_exporter": "python",
   "pygments_lexer": "ipython3",
   "version": "3.12.4"
  }
 },
 "nbformat": 4,
 "nbformat_minor": 2
}
