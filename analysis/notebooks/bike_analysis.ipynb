{
 "cells": [
  {
   "cell_type": "code",
   "execution_count": 4,
   "metadata": {},
   "outputs": [],
   "source": [
    "# Import all required libraries\n",
    "import pandas as pd\n",
    "import numpy as np\n",
    "import matplotlib.pyplot as plt\n",
    "import seaborn as sns\n",
    "import plotly.express as px\n",
    "import plotly.graph_objects as go\n",
    "from plotly.subplots import make_subplots\n",
    "import warnings\n",
    "warnings.filterwarnings('ignore')\n",
    "\n",
    "# Database libraries\n",
    "import psycopg2\n",
    "from sqlalchemy import create_engine\n",
    "import json\n",
    "\n",
    "# Set plotting style\n",
    "plt.style.use('seaborn-v0_8')\n",
    "sns.set_palette(\"husl\")"
   ]
  },
  {
   "cell_type": "code",
   "execution_count": 5,
   "metadata": {},
   "outputs": [
    {
     "name": "stdout",
     "output_type": "stream",
     "text": [
      "Direct PostgreSQL connection successful!\n"
     ]
    }
   ],
   "source": [
    "# Alternative: Direct psycopg2 connection\n",
    "import psycopg2\n",
    "import pandas as pd\n",
    "\n",
    "def get_connection():\n",
    "    return psycopg2.connect(\n",
    "        host='localhost',\n",
    "        port=5432,\n",
    "        database='city_marketing',\n",
    "        user='postgres',\n",
    "        password='1234'\n",
    "    )\n",
    "\n",
    "try:\n",
    "    # Test connection\n",
    "    conn = get_connection()\n",
    "    cursor = conn.cursor()\n",
    "    cursor.execute(\"SELECT 1\")\n",
    "    print(\"Direct PostgreSQL connection successful!\")\n",
    "    conn.close()\n",
    "except Exception as e:\n",
    "    print(f\"Direct connection failed: {e}\")\n",
    "    print(\"Let's check container status...\")"
   ]
  },
  {
   "cell_type": "code",
   "execution_count": 6,
   "metadata": {},
   "outputs": [
    {
     "name": "stdout",
     "output_type": "stream",
     "text": [
      "✅ Loaded 10000 vehicule counter records\n",
      "Dataset shape: (10000, 10)\n",
      "Columns: ['trajectory_id', 'site_id', 'site_label', 'mode', 'count', 'direction', 'lane', 'timestamp', 'longitude', 'latitude']\n",
      "\n",
      "First 3 rows:\n",
      "  trajectory_id site_id               site_label                 mode  count  \\\n",
      "0  10004_5 -> 3   10004  CF0256_88 rue de Rivoli  Autobus et autocars      4   \n",
      "1  10004_1 -> 1   10004  CF0256_88 rue de Rivoli         Trottinettes      4   \n",
      "2  10004_4 -> 2   10004  CF0256_88 rue de Rivoli         Trottinettes      5   \n",
      "\n",
      "  direction                          lane                 timestamp longitude  \\\n",
      "0       E-O  Voie de circulation générale 2025-04-09 22:00:00+00:00  2.349109   \n",
      "1       O-E                Piste cyclable 2025-04-10 00:00:00+00:00  2.349109   \n",
      "2       E-O                   Coronapiste 2025-04-10 01:00:00+00:00  2.349109   \n",
      "\n",
      "    latitude  \n",
      "0  48.858273  \n",
      "1  48.858273  \n",
      "2  48.858273  \n"
     ]
    }
   ],
   "source": [
    "# Load vehicule counter data - simple direct approach\n",
    "conn = get_connection()\n",
    "vehicule_data = pd.read_sql(\"SELECT * FROM vehicle_counters\", conn)\n",
    "conn.close()\n",
    "\n",
    "print(f\"✅ Loaded {len(vehicule_data)} vehicule counter records\")\n",
    "\n",
    "# Quick data overview\n",
    "print(f\"Dataset shape: {vehicule_data.shape}\")\n",
    "print(f\"Columns: {list(vehicule_data.columns)}\")\n",
    "print(\"\\nFirst 3 rows:\")\n",
    "print(vehicule_data.head(3))"
   ]
  },
  {
   "cell_type": "code",
   "execution_count": 7,
   "metadata": {},
   "outputs": [
    {
     "name": "stdout",
     "output_type": "stream",
     "text": [
      "DATASET OVERVIEW\n",
      "==================================================\n",
      "Shape: (10000, 10)\n",
      "Memory usage: 4.93 MB\n",
      "\n",
      "Column Information:\n",
      "<class 'pandas.core.frame.DataFrame'>\n",
      "RangeIndex: 10000 entries, 0 to 9999\n",
      "Data columns (total 10 columns):\n",
      " #   Column         Non-Null Count  Dtype              \n",
      "---  ------         --------------  -----              \n",
      " 0   trajectory_id  10000 non-null  object             \n",
      " 1   site_id        10000 non-null  object             \n",
      " 2   site_label     10000 non-null  object             \n",
      " 3   mode           10000 non-null  object             \n",
      " 4   count          10000 non-null  int64              \n",
      " 5   direction      10000 non-null  object             \n",
      " 6   lane           10000 non-null  object             \n",
      " 7   timestamp      10000 non-null  datetime64[ns, UTC]\n",
      " 8   longitude      10000 non-null  object             \n",
      " 9   latitude       10000 non-null  object             \n",
      "dtypes: datetime64[ns, UTC](1), int64(1), object(8)\n",
      "memory usage: 781.4+ KB\n",
      "None\n"
     ]
    }
   ],
   "source": [
    "# Basic data info\n",
    "print(\"DATASET OVERVIEW\")\n",
    "print(\"=\" * 50)\n",
    "print(f\"Shape: {vehicule_data.shape}\")\n",
    "print(f\"Memory usage: {vehicule_data.memory_usage(deep=True).sum() / 1024**2:.2f} MB\")\n",
    "print(\"\\nColumn Information:\")\n",
    "print(vehicule_data.info())"
   ]
  },
  {
   "cell_type": "code",
   "execution_count": 8,
   "metadata": {},
   "outputs": [
    {
     "name": "stdout",
     "output_type": "stream",
     "text": [
      "SAMPLE DATA\n",
      "==================================================\n",
      "  trajectory_id site_id               site_label                     mode  \\\n",
      "0  10004_5 -> 3   10004  CF0256_88 rue de Rivoli      Autobus et autocars   \n",
      "1  10004_1 -> 1   10004  CF0256_88 rue de Rivoli             Trottinettes   \n",
      "2  10004_4 -> 2   10004  CF0256_88 rue de Rivoli             Trottinettes   \n",
      "3  10004_5 -> 3   10004  CF0256_88 rue de Rivoli  Véhicules lourds > 3,5t   \n",
      "4  10004_4 -> 2   10004  CF0256_88 rue de Rivoli                    Vélos   \n",
      "\n",
      "   count direction                          lane                 timestamp  \\\n",
      "0      4       E-O  Voie de circulation générale 2025-04-09 22:00:00+00:00   \n",
      "1      4       O-E                Piste cyclable 2025-04-10 00:00:00+00:00   \n",
      "2      5       E-O                   Coronapiste 2025-04-10 01:00:00+00:00   \n",
      "3      8       E-O  Voie de circulation générale 2025-04-10 02:00:00+00:00   \n",
      "4     51       E-O                   Coronapiste 2025-04-10 04:00:00+00:00   \n",
      "\n",
      "  longitude   latitude  \n",
      "0  2.349109  48.858273  \n",
      "1  2.349109  48.858273  \n",
      "2  2.349109  48.858273  \n",
      "3  2.349109  48.858273  \n",
      "4  2.349109  48.858273  \n",
      "\n",
      "COLUMN NAMES:\n",
      "['trajectory_id', 'site_id', 'site_label', 'mode', 'count', 'direction', 'lane', 'timestamp', 'longitude', 'latitude']\n"
     ]
    }
   ],
   "source": [
    "# Display first few rows\n",
    "print(\"SAMPLE DATA\")\n",
    "print(\"=\" * 50)\n",
    "print(vehicule_data.head())\n",
    "\n",
    "print(\"\\nCOLUMN NAMES:\")\n",
    "print(list(vehicule_data.columns))"
   ]
  },
  {
   "cell_type": "code",
   "execution_count": 9,
   "metadata": {},
   "outputs": [
    {
     "name": "stdout",
     "output_type": "stream",
     "text": [
      "MISSING VALUES ANALYSIS\n",
      "==================================================\n",
      "No missing values found!\n"
     ]
    }
   ],
   "source": [
    "# Check for missing values\n",
    "print(\"MISSING VALUES ANALYSIS\")\n",
    "print(\"=\" * 50)\n",
    "missing_analysis = pd.DataFrame({\n",
    "    'Missing_Count': vehicule_data.isnull().sum(),\n",
    "    'Missing_Percentage': (vehicule_data.isnull().sum() / len(vehicule_data)) * 100\n",
    "}).sort_values('Missing_Percentage', ascending=False)\n",
    "\n",
    "missing_with_values = missing_analysis[missing_analysis['Missing_Count'] > 0]\n",
    "if not missing_with_values.empty:\n",
    "    print(missing_with_values)\n",
    "else:\n",
    "    print(\"No missing values found!\")"
   ]
  }
 ],
 "metadata": {
  "kernelspec": {
   "display_name": "Python 3",
   "language": "python",
   "name": "python3"
  },
  "language_info": {
   "codemirror_mode": {
    "name": "ipython",
    "version": 3
   },
   "file_extension": ".py",
   "mimetype": "text/x-python",
   "name": "python",
   "nbconvert_exporter": "python",
   "pygments_lexer": "ipython3",
   "version": "3.12.4"
  }
 },
 "nbformat": 4,
 "nbformat_minor": 2
}
